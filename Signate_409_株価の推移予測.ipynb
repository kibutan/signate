{
  "nbformat": 4,
  "nbformat_minor": 0,
  "metadata": {
    "colab": {
      "name": "Signate 409 株価の推移予測",
      "provenance": [],
      "collapsed_sections": [],
      "toc_visible": true,
      "authorship_tag": "ABX9TyOE5LW2/uyUeOaFd2VBLnCU",
      "include_colab_link": true
    },
    "kernelspec": {
      "name": "python3",
      "display_name": "Python 3"
    }
  },
  "cells": [
    {
      "cell_type": "markdown",
      "metadata": {
        "id": "view-in-github",
        "colab_type": "text"
      },
      "source": [
        "<a href=\"https://colab.research.google.com/github/kibutan/signate/blob/main/Signate_409_%E6%A0%AA%E4%BE%A1%E3%81%AE%E6%8E%A8%E7%A7%BB%E4%BA%88%E6%B8%AC.ipynb\" target=\"_parent\"><img src=\"https://colab.research.google.com/assets/colab-badge.svg\" alt=\"Open In Colab\"/></a>"
      ]
    },
    {
      "cell_type": "markdown",
      "metadata": {
        "id": "ipXnvAzKZCE-"
      },
      "source": [
        "株価予測コンペ\r\n",
        "\r\n",
        "時系列で、使わない特徴量が無いと思う。\r\n",
        "前日の影響がどれだけあるかとか、何日前までの影響があるかとかといった設定が重要なものではないか？\r\n",
        "RNNを使うのか？\r\n",
        "\r\n",
        "→RNNを使うし、LSTMを使う。\r\n",
        "Dropoutも使う"
      ]
    },
    {
      "cell_type": "code",
      "metadata": {
        "id": "NfRsrZA72z8m"
      },
      "source": [
        ""
      ],
      "execution_count": null,
      "outputs": []
    },
    {
      "cell_type": "code",
      "metadata": {
        "id": "Vp-S9Lh8LpVG",
        "colab": {
          "base_uri": "https://localhost:8080/"
        },
        "outputId": "924dedda-5833-455f-f81e-ea9d4681dab0"
      },
      "source": [
        "%pip install signate"
      ],
      "execution_count": null,
      "outputs": [
        {
          "output_type": "stream",
          "text": [
            "Collecting signate\n",
            "  Downloading https://files.pythonhosted.org/packages/da/82/ad4d2d0e1f1ada90cd940792a734ca94e980606f810fcd75ac4aa5a9baa8/signate-0.9.7-py3-none-any.whl\n",
            "Requirement already satisfied: python-dateutil in /usr/local/lib/python3.6/dist-packages (from signate) (2.8.1)\n",
            "Requirement already satisfied: tabulate in /usr/local/lib/python3.6/dist-packages (from signate) (0.8.7)\n",
            "Collecting wget\n",
            "  Downloading https://files.pythonhosted.org/packages/47/6a/62e288da7bcda82b935ff0c6cfe542970f04e29c756b0e147251b2fb251f/wget-3.2.zip\n",
            "Requirement already satisfied: six>=1.10 in /usr/local/lib/python3.6/dist-packages (from signate) (1.15.0)\n",
            "Requirement already satisfied: certifi in /usr/local/lib/python3.6/dist-packages (from signate) (2020.12.5)\n",
            "Collecting urllib3>=1.25.3\n",
            "\u001b[?25l  Downloading https://files.pythonhosted.org/packages/f5/71/45d36a8df68f3ebb098d6861b2c017f3d094538c0fb98fa61d4dc43e69b9/urllib3-1.26.2-py2.py3-none-any.whl (136kB)\n",
            "\u001b[K     |████████████████████████████████| 143kB 12.8MB/s \n",
            "\u001b[?25hRequirement already satisfied: click in /usr/local/lib/python3.6/dist-packages (from signate) (7.1.2)\n",
            "Building wheels for collected packages: wget\n",
            "  Building wheel for wget (setup.py) ... \u001b[?25l\u001b[?25hdone\n",
            "  Created wheel for wget: filename=wget-3.2-cp36-none-any.whl size=9681 sha256=14e26436b9aab34bfb0ca0dd46ffb2630ebd77e956b3e4d274659d5c50d44011\n",
            "  Stored in directory: /root/.cache/pip/wheels/40/15/30/7d8f7cea2902b4db79e3fea550d7d7b85ecb27ef992b618f3f\n",
            "Successfully built wget\n",
            "\u001b[31mERROR: requests 2.23.0 has requirement urllib3!=1.25.0,!=1.25.1,<1.26,>=1.21.1, but you'll have urllib3 1.26.2 which is incompatible.\u001b[0m\n",
            "\u001b[31mERROR: datascience 0.10.6 has requirement folium==0.2.1, but you'll have folium 0.8.3 which is incompatible.\u001b[0m\n",
            "Installing collected packages: wget, urllib3, signate\n",
            "  Found existing installation: urllib3 1.24.3\n",
            "    Uninstalling urllib3-1.24.3:\n",
            "      Successfully uninstalled urllib3-1.24.3\n",
            "Successfully installed signate-0.9.7 urllib3-1.26.2 wget-3.2\n"
          ],
          "name": "stdout"
        }
      ]
    },
    {
      "cell_type": "code",
      "metadata": {
        "id": "AlbA3y392-U5",
        "colab": {
          "base_uri": "https://localhost:8080/"
        },
        "outputId": "4d74e15f-6f5e-4ade-fffc-520765e08807"
      },
      "source": [
        "#kaggle.jsonをGoogle Drive からひっぱってくるやつ\n",
        "from googleapiclient.discovery import build\n",
        "import io, os\n",
        "from googleapiclient.http import MediaIoBaseDownload\n",
        "from google.colab import auth\n",
        "\n",
        "auth.authenticate_user()\n",
        "\n",
        "drive_service = build('drive', 'v3')\n",
        "results = drive_service.files().list(\n",
        "        q=\"name = 'signate.json'\", fields=\"files(id)\").execute()\n",
        "kaggle_api_key = results.get('files', [])\n",
        "\n",
        "filename = \"/root/.signate/signate.json\"\n",
        "os.makedirs(os.path.dirname(filename), exist_ok=True)\n",
        "\n",
        "request = drive_service.files().get_media(fileId=kaggle_api_key[0]['id'])\n",
        "fh = io.FileIO(filename, 'wb')\n",
        "downloader = MediaIoBaseDownload(fh, request)\n",
        "done = False\n",
        "while done is False:\n",
        "    status, done = downloader.next_chunk()\n",
        "    print(\"Download %d%%.\" % int(status.progress() * 100))\n",
        "os.chmod(filename, 600)"
      ],
      "execution_count": null,
      "outputs": [
        {
          "output_type": "stream",
          "text": [
            "/usr/local/lib/python3.6/dist-packages/requests/__init__.py:91: RequestsDependencyWarning: urllib3 (1.26.2) or chardet (3.0.4) doesn't match a supported version!\n",
            "  RequestsDependencyWarning)\n"
          ],
          "name": "stderr"
        },
        {
          "output_type": "stream",
          "text": [
            "Download 100%.\n"
          ],
          "name": "stdout"
        }
      ]
    },
    {
      "cell_type": "code",
      "metadata": {
        "id": "Pw8fOxoCLpu4",
        "colab": {
          "base_uri": "https://localhost:8080/"
        },
        "outputId": "a5aa4f4f-aa89-4de6-f58b-d3023647d45e"
      },
      "source": [
        "!signate list"
      ],
      "execution_count": null,
      "outputs": [
        {
          "output_type": "stream",
          "text": [
            "  competitionId  title                                                              closing     prize                             submitters\n",
            "---------------  -----------------------------------------------------------------  ----------  ------------------------------  ------------\n",
            "              1  【練習問題】銀行の顧客ターゲティング                               -                                                   4258\n",
            "             24  【練習問題】お弁当の需要予測                                       -                                                   5094\n",
            "             27  【練習問題】Jリーグの観客動員数予測                                -                                                   1109\n",
            "            100  【練習問題】手書き文字認識                                         -           Knowledge                                111\n",
            "            102  【練習問題】タイタニックの生存予測                                 -           Knowledge                                417\n",
            "            103  【練習問題】音楽ラベリング                                         -           Knowledge                                 28\n",
            "            104  【練習問題】スパムメール分類                                       -           Knowledge                                 91\n",
            "            105  【練習問題】毒キノコの分類                                         -           Knowledge                                182\n",
            "            106  【練習問題】アワビの年齢予測                                       -           Knowledge                                284\n",
            "            107  【練習問題】国勢調査からの収入予測                                 -           Knowledge                                393\n",
            "            108  【練習問題】画像ラベリング（２０種類）                             -           Knowledge                                158\n",
            "            109  オフロード画像のセグメンテーションチャレンジ（認識精度部門）       2021-02-11  total 600,000 yen                          1\n",
            "            112  【練習問題】ワインの品種の予測                                     -           Knowledge                                247\n",
            "            114  【練習問題】レンタル自転車の利用者数予測                           -           Knowledge                                299\n",
            "            115  【練習問題】アヤメの分類                                           -           Knowledge                                241\n",
            "            121  【練習問題】自動車の走行距離予測                                   -           Knowledge                                738\n",
            "            122  【練習問題】自動車の評価                                           -           Knowledge                                248\n",
            "            124  【練習問題】ボットの判別                                           -           Knowledge                                224\n",
            "            132  【練習問題】ネット広告のクリック予測                               -           Knowledge                                118\n",
            "            133  【練習問題】画像ラベリング（１０種類）                             -                                                    283\n",
            "            135  【練習問題】ネット画像の分類                                       -                                                     65\n",
            "            262  【SOTA】国立国会図書館の画像データレイアウト認識                   2100-12-31  -                                          8\n",
            "            263  【SOTA】産業技術総合研究所 衛星画像分析コンテスト                  2100-12-31  -                                          8\n",
            "            264  【SOTA】マイナビ × SIGNATE Student Cup 2019: 賃貸物件の家賃予測    2100-12-31  -                                        136\n",
            "            265  【練習問題】健診データによる肝疾患判定                             -                                                    210\n",
            "            266  【練習問題】民泊サービスの宿泊価格予測                             -                                                    189\n",
            "            267  【SOTA】海洋研究開発機構 熱帯低気圧（台風等）検出アルゴリズム作成  2100-12-31  -                                          6\n",
            "            268  【SOTA】オプト レコメンドエンジン作成                              2100-12-31                                             5\n",
            "            269  【SOTA】アップル 引越し需要予測                                    2100-12-31  -                                         72\n",
            "            270  【SOTA】Weather Challenge：雲画像予測                              2100-12-31  -                                          3\n",
            "            271  【SOTA】JR西日本 走行中の北陸新幹線車両台車部の着雪量予測          2100-12-31  -                                          1\n",
            "            285  第4回AIエッジコンテスト（実装コンテスト②）                         2020-12-31  total 1,000,000 yen                       31\n",
            "            288  【SOTA】Sansan 名刺の項目予測                                      2100-12-31  -                                          6\n",
            "            294  【練習問題】債務不履行リスクの低減                                 -                                                     37\n",
            "            358  【練習問題】機械稼働音の異常検知                                   -                                                     15\n",
            "            363  JR東日本 列車運行予測                                              2021-01-21  総額¥1,500,000                           176\n",
            "            406  【練習問題】鋳造製品の欠陥検出                                     -                                                      3\n",
            "            407  COVID-19チャレンジ（フェーズ3 - ラウンド15）                       2021-01-03  社会貢献・名誉・著作クレジット             0\n",
            "            409  【練習問題】株価の推移予測                                         -                                                      2\n"
          ],
          "name": "stdout"
        }
      ]
    },
    {
      "cell_type": "markdown",
      "metadata": {
        "id": "rMqjLyDO5ahh"
      },
      "source": [
        ""
      ]
    },
    {
      "cell_type": "code",
      "metadata": {
        "id": "qm-mWX5DMbER",
        "colab": {
          "base_uri": "https://localhost:8080/"
        },
        "outputId": "b489872c-2240-4655-ca52-649881efdb4b"
      },
      "source": [
        "#規約同意前ならエラーを返す。yを入力後再実行でダウンロードが可能に。\n",
        "#指定しない限り、カレントディレクトリにデータは降りる。\n",
        "!signate download -c 409"
      ],
      "execution_count": null,
      "outputs": [
        {
          "output_type": "stream",
          "text": [
            "sample_submission.csv\n",
            "\n",
            "test.csv\n",
            "\n",
            "train.csv\n",
            "\n",
            "\u001b[32m\n",
            "Download completed.\u001b[0m\n"
          ],
          "name": "stdout"
        }
      ]
    },
    {
      "cell_type": "code",
      "metadata": {
        "id": "miH1IX4Z4hto",
        "colab": {
          "base_uri": "https://localhost:8080/"
        },
        "outputId": "c827578c-da15-49f1-d508-fd2f70f04d28"
      },
      "source": [
        "!ls"
      ],
      "execution_count": null,
      "outputs": [
        {
          "output_type": "stream",
          "text": [
            "adc.json  sample_data  sample_submission.csv  test.csv\ttrain.csv\n"
          ],
          "name": "stdout"
        }
      ]
    },
    {
      "cell_type": "code",
      "metadata": {
        "id": "ZCyU_xiI5mig"
      },
      "source": [
        "import numpy as np\r\n",
        "import pandas as pd\r\n",
        "import matplotlib.pyplot as plt\r\n",
        "import seaborn as sns\r\n",
        "from sklearn.model_selection import train_test_split\r\n",
        "from sklearn.metrics import  accuracy_score\r\n",
        "from sklearn.preprocessing import StandardScaler\r\n",
        "from keras.models import Sequential\r\n",
        "from keras.layers import Dense, LSTM,Dropout"
      ],
      "execution_count": null,
      "outputs": []
    },
    {
      "cell_type": "code",
      "metadata": {
        "id": "YmsPrtrZXTZ3"
      },
      "source": [
        "train =  pd.read_csv(\"train.csv\",index_col=\"Date\",parse_dates=True)\r\n",
        "test = pd.read_csv(\"test.csv\",index_col=\"Date\",parse_dates=True)\r\n",
        "submit = pd.read_csv(\"sample_submission.csv\",names  = (\"Date\",\"Up\"),index_col=\"Date\",parse_dates=True)"
      ],
      "execution_count": null,
      "outputs": []
    },
    {
      "cell_type": "code",
      "metadata": {
        "colab": {
          "base_uri": "https://localhost:8080/"
        },
        "id": "FY_bPC4QMjgj",
        "outputId": "7e67286d-2a8d-4b9b-aee8-0381a2d77eb8"
      },
      "source": [
        "print(train.shape)\r\n",
        "print(test.shape)\r\n",
        "print(submit.shape)\r\n"
      ],
      "execution_count": null,
      "outputs": [
        {
          "output_type": "stream",
          "text": [
            "(2026, 7)\n",
            "(1200, 6)\n",
            "(200, 1)\n"
          ],
          "name": "stdout"
        }
      ]
    },
    {
      "cell_type": "code",
      "metadata": {
        "id": "CKv9B81ahzJS"
      },
      "source": [
        "# train =  pd.read_csv(\"train.csv\")\r\n",
        "# test = pd.read_csv(\"test.csv\")\r\n",
        "# submit = pd.read_csv(\"sample_submission.csv\",names  = (\"Date\",\"Up\"))\r\n",
        "\r\n",
        "# df[\"Date\"] = pd.to_datetime(train[\"Date\"])"
      ],
      "execution_count": null,
      "outputs": []
    },
    {
      "cell_type": "code",
      "metadata": {
        "colab": {
          "base_uri": "https://localhost:8080/"
        },
        "id": "wnJTZ9-Hby2G",
        "outputId": "ddaa3665-0af2-486a-fd06-1d01e029d04a"
      },
      "source": [
        "train.dtypes"
      ],
      "execution_count": null,
      "outputs": [
        {
          "output_type": "execute_result",
          "data": {
            "text/plain": [
              "Open     float64\n",
              "High     float64\n",
              "Low      float64\n",
              "Close    float64\n",
              "Up         int64\n",
              "dtype: object"
            ]
          },
          "metadata": {
            "tags": []
          },
          "execution_count": 9
        }
      ]
    },
    {
      "cell_type": "code",
      "metadata": {
        "colab": {
          "base_uri": "https://localhost:8080/",
          "height": 235
        },
        "id": "XHMRiLUEKmvC",
        "outputId": "86cef000-7d3a-418a-97ce-9b3d3dafc20e"
      },
      "source": [
        "train.tail()"
      ],
      "execution_count": null,
      "outputs": [
        {
          "output_type": "execute_result",
          "data": {
            "text/html": [
              "<div>\n",
              "<style scoped>\n",
              "    .dataframe tbody tr th:only-of-type {\n",
              "        vertical-align: middle;\n",
              "    }\n",
              "\n",
              "    .dataframe tbody tr th {\n",
              "        vertical-align: top;\n",
              "    }\n",
              "\n",
              "    .dataframe thead th {\n",
              "        text-align: right;\n",
              "    }\n",
              "</style>\n",
              "<table border=\"1\" class=\"dataframe\">\n",
              "  <thead>\n",
              "    <tr style=\"text-align: right;\">\n",
              "      <th></th>\n",
              "      <th>Open</th>\n",
              "      <th>High</th>\n",
              "      <th>Low</th>\n",
              "      <th>Close</th>\n",
              "      <th>Up</th>\n",
              "    </tr>\n",
              "    <tr>\n",
              "      <th>Date</th>\n",
              "      <th></th>\n",
              "      <th></th>\n",
              "      <th></th>\n",
              "      <th></th>\n",
              "      <th></th>\n",
              "    </tr>\n",
              "  </thead>\n",
              "  <tbody>\n",
              "    <tr>\n",
              "      <th>2012-01-11</th>\n",
              "      <td>108.62</td>\n",
              "      <td>109.00</td>\n",
              "      <td>108.41</td>\n",
              "      <td>108.86</td>\n",
              "      <td>1</td>\n",
              "    </tr>\n",
              "    <tr>\n",
              "      <th>2012-01-12</th>\n",
              "      <td>109.68</td>\n",
              "      <td>109.90</td>\n",
              "      <td>109.44</td>\n",
              "      <td>109.83</td>\n",
              "      <td>0</td>\n",
              "    </tr>\n",
              "    <tr>\n",
              "      <th>2012-01-13</th>\n",
              "      <td>109.53</td>\n",
              "      <td>109.72</td>\n",
              "      <td>109.08</td>\n",
              "      <td>109.66</td>\n",
              "      <td>1</td>\n",
              "    </tr>\n",
              "    <tr>\n",
              "      <th>2012-01-17</th>\n",
              "      <td>109.99</td>\n",
              "      <td>110.47</td>\n",
              "      <td>109.57</td>\n",
              "      <td>109.96</td>\n",
              "      <td>1</td>\n",
              "    </tr>\n",
              "    <tr>\n",
              "      <th>2012-01-18</th>\n",
              "      <td>110.06</td>\n",
              "      <td>110.82</td>\n",
              "      <td>109.94</td>\n",
              "      <td>110.58</td>\n",
              "      <td>0</td>\n",
              "    </tr>\n",
              "  </tbody>\n",
              "</table>\n",
              "</div>"
            ],
            "text/plain": [
              "              Open    High     Low   Close  Up\n",
              "Date                                          \n",
              "2012-01-11  108.62  109.00  108.41  108.86   1\n",
              "2012-01-12  109.68  109.90  109.44  109.83   0\n",
              "2012-01-13  109.53  109.72  109.08  109.66   1\n",
              "2012-01-17  109.99  110.47  109.57  109.96   1\n",
              "2012-01-18  110.06  110.82  109.94  110.58   0"
            ]
          },
          "metadata": {
            "tags": []
          },
          "execution_count": 10
        }
      ]
    },
    {
      "cell_type": "code",
      "metadata": {
        "colab": {
          "base_uri": "https://localhost:8080/",
          "height": 235
        },
        "id": "IgBfqRsMKn1c",
        "outputId": "df9f9d87-258a-446a-d7a1-019f273301d7"
      },
      "source": [
        "test.head()"
      ],
      "execution_count": null,
      "outputs": [
        {
          "output_type": "execute_result",
          "data": {
            "text/html": [
              "<div>\n",
              "<style scoped>\n",
              "    .dataframe tbody tr th:only-of-type {\n",
              "        vertical-align: middle;\n",
              "    }\n",
              "\n",
              "    .dataframe tbody tr th {\n",
              "        vertical-align: top;\n",
              "    }\n",
              "\n",
              "    .dataframe thead th {\n",
              "        text-align: right;\n",
              "    }\n",
              "</style>\n",
              "<table border=\"1\" class=\"dataframe\">\n",
              "  <thead>\n",
              "    <tr style=\"text-align: right;\">\n",
              "      <th></th>\n",
              "      <th>Open</th>\n",
              "      <th>High</th>\n",
              "      <th>Low</th>\n",
              "      <th>Close</th>\n",
              "    </tr>\n",
              "    <tr>\n",
              "      <th>Date</th>\n",
              "      <th></th>\n",
              "      <th></th>\n",
              "      <th></th>\n",
              "      <th></th>\n",
              "    </tr>\n",
              "  </thead>\n",
              "  <tbody>\n",
              "    <tr>\n",
              "      <th>2012-01-19</th>\n",
              "      <td>110.79</td>\n",
              "      <td>110.82</td>\n",
              "      <td>109.96</td>\n",
              "      <td>110.39</td>\n",
              "    </tr>\n",
              "    <tr>\n",
              "      <th>2012-01-20</th>\n",
              "      <td>110.45</td>\n",
              "      <td>111.10</td>\n",
              "      <td>110.36</td>\n",
              "      <td>110.73</td>\n",
              "    </tr>\n",
              "    <tr>\n",
              "      <th>2012-01-23</th>\n",
              "      <td>110.95</td>\n",
              "      <td>111.10</td>\n",
              "      <td>109.65</td>\n",
              "      <td>110.36</td>\n",
              "    </tr>\n",
              "    <tr>\n",
              "      <th>2012-01-24</th>\n",
              "      <td>110.16</td>\n",
              "      <td>110.16</td>\n",
              "      <td>108.13</td>\n",
              "      <td>108.39</td>\n",
              "    </tr>\n",
              "    <tr>\n",
              "      <th>2012-01-25</th>\n",
              "      <td>106.25</td>\n",
              "      <td>107.11</td>\n",
              "      <td>105.97</td>\n",
              "      <td>106.89</td>\n",
              "    </tr>\n",
              "  </tbody>\n",
              "</table>\n",
              "</div>"
            ],
            "text/plain": [
              "              Open    High     Low   Close\n",
              "Date                                      \n",
              "2012-01-19  110.79  110.82  109.96  110.39\n",
              "2012-01-20  110.45  111.10  110.36  110.73\n",
              "2012-01-23  110.95  111.10  109.65  110.36\n",
              "2012-01-24  110.16  110.16  108.13  108.39\n",
              "2012-01-25  106.25  107.11  105.97  106.89"
            ]
          },
          "metadata": {
            "tags": []
          },
          "execution_count": 11
        }
      ]
    },
    {
      "cell_type": "code",
      "metadata": {
        "colab": {
          "base_uri": "https://localhost:8080/",
          "height": 235
        },
        "id": "pBixcIpOKpjk",
        "outputId": "2ec5bd72-db17-4521-ff9e-81ba09dc87cb"
      },
      "source": [
        "submit.head()"
      ],
      "execution_count": null,
      "outputs": [
        {
          "output_type": "execute_result",
          "data": {
            "text/html": [
              "<div>\n",
              "<style scoped>\n",
              "    .dataframe tbody tr th:only-of-type {\n",
              "        vertical-align: middle;\n",
              "    }\n",
              "\n",
              "    .dataframe tbody tr th {\n",
              "        vertical-align: top;\n",
              "    }\n",
              "\n",
              "    .dataframe thead th {\n",
              "        text-align: right;\n",
              "    }\n",
              "</style>\n",
              "<table border=\"1\" class=\"dataframe\">\n",
              "  <thead>\n",
              "    <tr style=\"text-align: right;\">\n",
              "      <th></th>\n",
              "      <th>Up</th>\n",
              "    </tr>\n",
              "    <tr>\n",
              "      <th>Date</th>\n",
              "      <th></th>\n",
              "    </tr>\n",
              "  </thead>\n",
              "  <tbody>\n",
              "    <tr>\n",
              "      <th>2012-01-26</th>\n",
              "      <td>0</td>\n",
              "    </tr>\n",
              "    <tr>\n",
              "      <th>2012-02-09</th>\n",
              "      <td>0</td>\n",
              "    </tr>\n",
              "    <tr>\n",
              "      <th>2012-02-24</th>\n",
              "      <td>0</td>\n",
              "    </tr>\n",
              "    <tr>\n",
              "      <th>2012-03-09</th>\n",
              "      <td>0</td>\n",
              "    </tr>\n",
              "    <tr>\n",
              "      <th>2012-03-23</th>\n",
              "      <td>0</td>\n",
              "    </tr>\n",
              "  </tbody>\n",
              "</table>\n",
              "</div>"
            ],
            "text/plain": [
              "            Up\n",
              "Date          \n",
              "2012-01-26   0\n",
              "2012-02-09   0\n",
              "2012-02-24   0\n",
              "2012-03-09   0\n",
              "2012-03-23   0"
            ]
          },
          "metadata": {
            "tags": []
          },
          "execution_count": 12
        }
      ]
    },
    {
      "cell_type": "code",
      "metadata": {
        "colab": {
          "base_uri": "https://localhost:8080/"
        },
        "id": "cf4axxh6KsYs",
        "outputId": "db3fde51-4d55-46a9-b221-75c0e721d6ae"
      },
      "source": [
        "print(train.shape,test.shape,submit.shape)"
      ],
      "execution_count": null,
      "outputs": [
        {
          "output_type": "stream",
          "text": [
            "(2026, 5) (1200, 4) (200, 1)\n"
          ],
          "name": "stdout"
        }
      ]
    },
    {
      "cell_type": "code",
      "metadata": {
        "colab": {
          "base_uri": "https://localhost:8080/"
        },
        "id": "XhPvaXVYLSnq",
        "outputId": "dd0c0415-8b95-474a-9370-82999c36c328"
      },
      "source": [
        "print(train.dtypes)\r\n",
        "print()\r\n",
        "print(test.dtypes)\r\n",
        "print()\r\n",
        "print(submit.dtypes)"
      ],
      "execution_count": null,
      "outputs": [
        {
          "output_type": "stream",
          "text": [
            "Open     float64\n",
            "High     float64\n",
            "Low      float64\n",
            "Close    float64\n",
            "Up         int64\n",
            "dtype: object\n",
            "\n",
            "Open     float64\n",
            "High     float64\n",
            "Low      float64\n",
            "Close    float64\n",
            "dtype: object\n",
            "\n",
            "Up    int64\n",
            "dtype: object\n"
          ],
          "name": "stdout"
        }
      ]
    },
    {
      "cell_type": "markdown",
      "metadata": {
        "id": "yRGmZZi1MsfE"
      },
      "source": [
        "# DateがObjectで読み込まれているところ、Upがintで読み込まれているところが気になる。\r\n",
        "\r\n",
        "train =  pd.read_csv(\"train.csv\",index_col=\"Date\",parse_dates=True)\r\n",
        "test = pd.read_csv(\"test.csv\",index_col=\"Date\",parse_dates=True)\r\n",
        "submit = pd.read_csv(\"sample_submission.csv\",names  = (\"Date\",\"Up\"),index_col=\"Date\",parse_dates=True)\r\n",
        "\r\n",
        "index_colで指定したDate行をparse_dates=Trueとすることで日時データであると認識させた。これだとフォーマット指定が違う形で読まれるので、おbジェCTとして読ませてから変換する形をとる。"
      ]
    },
    {
      "cell_type": "markdown",
      "metadata": {
        "id": "ERE0JLb3aRWJ"
      },
      "source": [
        "数字の精査\r\n",
        "まずはisnull().sum()かと。\r\n",
        "次にDescribe()かと思ったが.\r\n",
        "\r\n",
        "\r\n"
      ]
    },
    {
      "cell_type": "code",
      "metadata": {
        "colab": {
          "base_uri": "https://localhost:8080/"
        },
        "id": "a-IEa3iaLl8U",
        "outputId": "824a2c18-bdee-4cf5-c8f5-e42c54fdb441"
      },
      "source": [
        "print(train.isnull().sum())\r\n",
        "print()\r\n",
        "print(test.isnull().sum())\r\n",
        "print()\r\n",
        "print(submit.isnull().sum())"
      ],
      "execution_count": null,
      "outputs": [
        {
          "output_type": "stream",
          "text": [
            "Open     0\n",
            "High     0\n",
            "Low      0\n",
            "Close    0\n",
            "Up       0\n",
            "dtype: int64\n",
            "\n",
            "Open     0\n",
            "High     0\n",
            "Low      0\n",
            "Close    0\n",
            "dtype: int64\n",
            "\n",
            "Up    0\n",
            "dtype: int64\n"
          ],
          "name": "stdout"
        }
      ]
    },
    {
      "cell_type": "markdown",
      "metadata": {
        "id": "8gXyMjnvaP7y"
      },
      "source": [
        ""
      ]
    },
    {
      "cell_type": "code",
      "metadata": {
        "colab": {
          "base_uri": "https://localhost:8080/"
        },
        "id": "gqcBn-f3P38G",
        "outputId": "b044c69b-6ac0-4ddc-e77a-69e6b1b91722"
      },
      "source": [
        "print(train.info())\r\n",
        "print()\r\n",
        "print(test.info())\r\n",
        "print()\r\n",
        "print(submit.info())"
      ],
      "execution_count": null,
      "outputs": [
        {
          "output_type": "stream",
          "text": [
            "<class 'pandas.core.frame.DataFrame'>\n",
            "DatetimeIndex: 2026 entries, 2004-01-02 to 2012-01-18\n",
            "Data columns (total 5 columns):\n",
            " #   Column  Non-Null Count  Dtype  \n",
            "---  ------  --------------  -----  \n",
            " 0   Open    2026 non-null   float64\n",
            " 1   High    2026 non-null   float64\n",
            " 2   Low     2026 non-null   float64\n",
            " 3   Close   2026 non-null   float64\n",
            " 4   Up      2026 non-null   int64  \n",
            "dtypes: float64(4), int64(1)\n",
            "memory usage: 95.0 KB\n",
            "None\n",
            "\n",
            "<class 'pandas.core.frame.DataFrame'>\n",
            "DatetimeIndex: 1200 entries, 2012-01-19 to 2019-12-23\n",
            "Data columns (total 4 columns):\n",
            " #   Column  Non-Null Count  Dtype  \n",
            "---  ------  --------------  -----  \n",
            " 0   Open    1200 non-null   float64\n",
            " 1   High    1200 non-null   float64\n",
            " 2   Low     1200 non-null   float64\n",
            " 3   Close   1200 non-null   float64\n",
            "dtypes: float64(4)\n",
            "memory usage: 46.9 KB\n",
            "None\n",
            "\n",
            "<class 'pandas.core.frame.DataFrame'>\n",
            "DatetimeIndex: 200 entries, 2012-01-26 to 2019-12-23\n",
            "Data columns (total 1 columns):\n",
            " #   Column  Non-Null Count  Dtype\n",
            "---  ------  --------------  -----\n",
            " 0   Up      200 non-null    int64\n",
            "dtypes: int64(1)\n",
            "memory usage: 3.1 KB\n",
            "None\n"
          ],
          "name": "stdout"
        }
      ]
    },
    {
      "cell_type": "code",
      "metadata": {
        "colab": {
          "base_uri": "https://localhost:8080/"
        },
        "id": "clQxJSzajieO",
        "outputId": "8aa40ff7-bd0b-4e3f-aed8-57249e639ff3"
      },
      "source": [
        "print(train.describe())\r\n",
        "print()\r\n",
        "print(test.describe())\r\n",
        "print()\r\n",
        "print(submit.describe())"
      ],
      "execution_count": null,
      "outputs": [
        {
          "output_type": "stream",
          "text": [
            "              Open         High          Low        Close           Up\n",
            "count  2026.000000  2026.000000  2026.000000  2026.000000  2026.000000\n",
            "mean     72.338425    72.714126    71.977957    72.353968     0.515795\n",
            "std      14.876363    14.968429    14.778285    14.874404     0.499874\n",
            "min      50.430000    50.650000    50.400000    50.610000     0.000000\n",
            "25%      57.702500    57.942500    57.415000    57.702500     0.000000\n",
            "50%      73.970000    74.430000    73.325000    73.835000     1.000000\n",
            "75%      81.230000    81.645000    80.717500    81.060000     1.000000\n",
            "max     110.510000   111.020000   110.380000   110.810000     1.000000\n",
            "\n",
            "              Open         High          Low        Close\n",
            "count  1200.000000  1200.000000  1200.000000  1200.000000\n",
            "mean    130.850575   131.469433   130.231283   130.850175\n",
            "std      29.564138    29.759571    29.304941    29.515361\n",
            "min      97.260000    97.690000    96.930000    97.470000\n",
            "25%     106.597500   107.120000   106.225000   106.630000\n",
            "50%     120.510000   121.085000   120.060000   120.495000\n",
            "75%     155.737500   156.652500   155.075000   155.737500\n",
            "max     205.550000   205.710000   202.530000   203.900000\n",
            "\n",
            "          Up\n",
            "count  200.0\n",
            "mean     0.0\n",
            "std      0.0\n",
            "min      0.0\n",
            "25%      0.0\n",
            "50%      0.0\n",
            "75%      0.0\n",
            "max      0.0\n"
          ],
          "name": "stdout"
        }
      ]
    },
    {
      "cell_type": "markdown",
      "metadata": {
        "id": "N3OIJ-fWli7J"
      },
      "source": [
        "長期的な株の動き"
      ]
    },
    {
      "cell_type": "code",
      "metadata": {
        "colab": {
          "base_uri": "https://localhost:8080/",
          "height": 286
        },
        "id": "stSz4LnKRJBu",
        "outputId": "3f109cb3-f52c-4828-c46c-785db6d9a213"
      },
      "source": [
        "train.plot()"
      ],
      "execution_count": null,
      "outputs": [
        {
          "output_type": "execute_result",
          "data": {
            "text/plain": [
              "<matplotlib.axes._subplots.AxesSubplot at 0x7ff117c73978>"
            ]
          },
          "metadata": {
            "tags": []
          },
          "execution_count": 18
        },
        {
          "output_type": "display_data",
          "data": {
            "image/png": "[encoded data removed]",
            "text/plain": [
              "<Figure size 432x288 with 1 Axes>"
            ]
          },
          "metadata": {
            "tags": [],
            "needs_background": "light"
          }
        }
      ]
    },
    {
      "cell_type": "markdown",
      "metadata": {
        "id": "QtD1-MfIloKe"
      },
      "source": [
        "短期的な株の動き"
      ]
    },
    {
      "cell_type": "code",
      "metadata": {
        "colab": {
          "base_uri": "https://localhost:8080/",
          "height": 302
        },
        "id": "viH7v9-IkTtJ",
        "outputId": "272578db-76e6-4538-e3fa-38316ed73432"
      },
      "source": [
        "from datetime import datetime\r\n",
        "train.loc[train.index > datetime(2011,12,1),[\"Open\",\"High\",\"Low\",\"Close\"]].plot()"
      ],
      "execution_count": null,
      "outputs": [
        {
          "output_type": "execute_result",
          "data": {
            "text/plain": [
              "<matplotlib.axes._subplots.AxesSubplot at 0x7ff117b23b00>"
            ]
          },
          "metadata": {
            "tags": []
          },
          "execution_count": 19
        },
        {
          "output_type": "display_data",
          "data": {
            "image/png": "[encoded data removed]",
            "text/plain": [
              "<Figure size 432x288 with 1 Axes>"
            ]
          },
          "metadata": {
            "tags": [],
            "needs_background": "light"
          }
        }
      ]
    },
    {
      "cell_type": "markdown",
      "metadata": {
        "id": "gu9L6n2K25rz"
      },
      "source": [
        "ローソク表示用変数Bodyの追加"
      ]
    },
    {
      "cell_type": "code",
      "metadata": {
        "id": "cbYb7qQ5k8M5"
      },
      "source": [
        "train[\"body\"] = train[\"Open\"] - train[\"Close\"]\r\n",
        "test[\"body\"] = test[\"Open\"] - test[\"Close\"]"
      ],
      "execution_count": null,
      "outputs": []
    },
    {
      "cell_type": "code",
      "metadata": {
        "colab": {
          "base_uri": "https://localhost:8080/"
        },
        "id": "uIzPV_uE0WyX",
        "outputId": "11c4e018-2e48-4e6f-dd5e-9ea10443bd81"
      },
      "source": [
        "print(train.head())\r\n",
        "print()\r\n",
        "print(test.head())"
      ],
      "execution_count": null,
      "outputs": [
        {
          "output_type": "stream",
          "text": [
            "             Open   High    Low  Close  Up  body\n",
            "Date                                            \n",
            "2004-01-02  50.85  50.91  50.62  50.72   1  0.13\n",
            "2004-01-05  50.75  50.84  50.61  50.79   1 -0.04\n",
            "2004-01-06  50.87  51.26  50.86  51.15   1 -0.28\n",
            "2004-01-07  51.45  51.54  51.29  51.51   0 -0.06\n",
            "2004-01-08  51.15  51.33  51.02  51.28   0 -0.13\n",
            "\n",
            "              Open    High     Low   Close  body\n",
            "Date                                            \n",
            "2012-01-19  110.79  110.82  109.96  110.39  0.40\n",
            "2012-01-20  110.45  111.10  110.36  110.73 -0.28\n",
            "2012-01-23  110.95  111.10  109.65  110.36  0.59\n",
            "2012-01-24  110.16  110.16  108.13  108.39  1.77\n",
            "2012-01-25  106.25  107.11  105.97  106.89 -0.64\n"
          ],
          "name": "stdout"
        }
      ]
    },
    {
      "cell_type": "markdown",
      "metadata": {
        "id": "e9ulXfoD4OyZ"
      },
      "source": [
        "test,trainを目的変数と説明変数に分解。裂けるチーズっぽくする"
      ]
    },
    {
      "cell_type": "code",
      "metadata": {
        "id": "OtRRL-vc3_VH"
      },
      "source": [
        "X_data = train.drop(columns=\"Up\",inplace = False)\r\n",
        "y_data = train[\"Up\"]"
      ],
      "execution_count": null,
      "outputs": []
    },
    {
      "cell_type": "markdown",
      "metadata": {
        "id": "i785p8XS-Jb2"
      },
      "source": [
        "裂けるチーズを裂いたあとに包丁で切る。学習用、検証用、テスト用を6：2：2で分ける"
      ]
    },
    {
      "cell_type": "code",
      "metadata": {
        "id": "PGSZiKoyBFva"
      },
      "source": [
        "X_trainval, X_test, y_trainval, y_test = train_test_split(X_data,y_data,test_size = 0.2,shuffle = False)\r\n",
        "X_train, X_val, y_train, y_val = train_test_split(X_trainval,y_trainval,test_size = 0.25,shuffle = False)"
      ],
      "execution_count": null,
      "outputs": []
    },
    {
      "cell_type": "markdown",
      "metadata": {
        "id": "jpIKbrCCDBVH"
      },
      "source": [
        "裂いて切ったチーズの長さの確認"
      ]
    },
    {
      "cell_type": "code",
      "metadata": {
        "colab": {
          "base_uri": "https://localhost:8080/",
          "height": 269
        },
        "id": "kWRF5ETtBpTK",
        "outputId": "d1f7aeb6-ba72-4b5d-9d1b-2c4803e744ad"
      },
      "source": [
        "X_train[\"Close\"].plot()\r\n",
        "X_val[\"Close\"].plot()\r\n",
        "X_test[\"Close\"].plot()\r\n",
        "plt.show()"
      ],
      "execution_count": null,
      "outputs": [
        {
          "output_type": "display_data",
          "data": {
            "image/png": "[encoded data removed]",
            "text/plain": [
              "<Figure size 432x288 with 1 Axes>"
            ]
          },
          "metadata": {
            "tags": [],
            "needs_background": "light"
          }
        }
      ]
    },
    {
      "cell_type": "markdown",
      "metadata": {
        "id": "pI4gYT23Vmbu"
      },
      "source": [
        "ここまでで変数の確認と学習・検証・テスト用変数への分け方が終わった。\r\n",
        "次に行うのはLSTMネットワークのための準備。\r\n",
        "\r\n",
        "まずは5日分のデータを保持させるための必要な自作関数get_tをつくる"
      ]
    },
    {
      "cell_type": "code",
      "metadata": {
        "id": "7R31kQLuCRF_"
      },
      "source": [
        "#このget_tは低速版。したのもので再定義を。\r\n",
        "def get_t(X, num_date):\r\n",
        "  X_t_list=[]\r\n",
        "  for i in range(len(X) - num_date +1):\r\n",
        "    X_t = X.iloc[i:i+num_date,:]\r\n",
        "    X_t_list.append(X_t)\r\n",
        "  return X_t_list "
      ],
      "execution_count": null,
      "outputs": []
    },
    {
      "cell_type": "code",
      "metadata": {
        "colab": {
          "base_uri": "https://localhost:8080/",
          "height": 235
        },
        "id": "4bY7ddnGXJ7R",
        "outputId": "d369867c-b94d-4748-f695-e193091bc6df"
      },
      "source": [
        "# get_tの動作確認\r\n",
        "num_date = 5\r\n",
        "X_array_data = get_t(X_train,num_date=5)\r\n",
        "X_array_data[0]"
      ],
      "execution_count": null,
      "outputs": [
        {
          "output_type": "execute_result",
          "data": {
            "text/html": [
              "<div>\n",
              "<style scoped>\n",
              "    .dataframe tbody tr th:only-of-type {\n",
              "        vertical-align: middle;\n",
              "    }\n",
              "\n",
              "    .dataframe tbody tr th {\n",
              "        vertical-align: top;\n",
              "    }\n",
              "\n",
              "    .dataframe thead th {\n",
              "        text-align: right;\n",
              "    }\n",
              "</style>\n",
              "<table border=\"1\" class=\"dataframe\">\n",
              "  <thead>\n",
              "    <tr style=\"text-align: right;\">\n",
              "      <th></th>\n",
              "      <th>Open</th>\n",
              "      <th>High</th>\n",
              "      <th>Low</th>\n",
              "      <th>Close</th>\n",
              "      <th>body</th>\n",
              "    </tr>\n",
              "    <tr>\n",
              "      <th>Date</th>\n",
              "      <th></th>\n",
              "      <th></th>\n",
              "      <th></th>\n",
              "      <th></th>\n",
              "      <th></th>\n",
              "    </tr>\n",
              "  </thead>\n",
              "  <tbody>\n",
              "    <tr>\n",
              "      <th>2004-01-02</th>\n",
              "      <td>50.85</td>\n",
              "      <td>50.91</td>\n",
              "      <td>50.62</td>\n",
              "      <td>50.72</td>\n",
              "      <td>0.13</td>\n",
              "    </tr>\n",
              "    <tr>\n",
              "      <th>2004-01-05</th>\n",
              "      <td>50.75</td>\n",
              "      <td>50.84</td>\n",
              "      <td>50.61</td>\n",
              "      <td>50.79</td>\n",
              "      <td>-0.04</td>\n",
              "    </tr>\n",
              "    <tr>\n",
              "      <th>2004-01-06</th>\n",
              "      <td>50.87</td>\n",
              "      <td>51.26</td>\n",
              "      <td>50.86</td>\n",
              "      <td>51.15</td>\n",
              "      <td>-0.28</td>\n",
              "    </tr>\n",
              "    <tr>\n",
              "      <th>2004-01-07</th>\n",
              "      <td>51.45</td>\n",
              "      <td>51.54</td>\n",
              "      <td>51.29</td>\n",
              "      <td>51.51</td>\n",
              "      <td>-0.06</td>\n",
              "    </tr>\n",
              "    <tr>\n",
              "      <th>2004-01-08</th>\n",
              "      <td>51.15</td>\n",
              "      <td>51.33</td>\n",
              "      <td>51.02</td>\n",
              "      <td>51.28</td>\n",
              "      <td>-0.13</td>\n",
              "    </tr>\n",
              "  </tbody>\n",
              "</table>\n",
              "</div>"
            ],
            "text/plain": [
              "             Open   High    Low  Close  body\n",
              "Date                                        \n",
              "2004-01-02  50.85  50.91  50.62  50.72  0.13\n",
              "2004-01-05  50.75  50.84  50.61  50.79 -0.04\n",
              "2004-01-06  50.87  51.26  50.86  51.15 -0.28\n",
              "2004-01-07  51.45  51.54  51.29  51.51 -0.06\n",
              "2004-01-08  51.15  51.33  51.02  51.28 -0.13"
            ]
          },
          "metadata": {
            "tags": []
          },
          "execution_count": 26
        }
      ]
    },
    {
      "cell_type": "code",
      "metadata": {
        "id": "12nocVzEXnZa"
      },
      "source": [
        "#高速版get_t\r\n",
        "def get_t(X, num_date):\r\n",
        "  X = np.array(X)\r\n",
        "  X_t_list=[]\r\n",
        "  for i in range(len(X) - num_date +1):\r\n",
        "    X_t = X[i:i+num_date,:]\r\n",
        "    X_t_list.append(X_t)\r\n",
        "  return np.array(X_t_list) "
      ],
      "execution_count": null,
      "outputs": []
    },
    {
      "cell_type": "markdown",
      "metadata": {
        "id": "zRGc9WbAbOgC"
      },
      "source": [
        "このまま5日間のデータを使うと、絶対値の大きいものの影響が強くなりすぎる。\r\n",
        "そこで絶対値ではなく変化の度合いが大きいものが影響大きいように変更する。\r\n",
        "要は、標準化。というやつである。"
      ]
    },
    {
      "cell_type": "code",
      "metadata": {
        "id": "FHDfa5B6aPCw"
      },
      "source": [
        "#get_standardized\r\n",
        "def get_standardized(X, num_date):\r\n",
        "  X = np.array(X)\r\n",
        "  X_t_list=[]\r\n",
        "  for i in range(len(X) - num_date +1):\r\n",
        "    X_t = X[i:i+num_date]\r\n",
        "    scaler = StandardScaler()\r\n",
        "    X_standardized = scaler.fit_transform(X_t)\r\n",
        "    X_t_list.append(X_standardized)\r\n",
        "  return np.array(X_t_list) "
      ],
      "execution_count": null,
      "outputs": []
    },
    {
      "cell_type": "code",
      "metadata": {
        "colab": {
          "base_uri": "https://localhost:8080/"
        },
        "id": "XwDVsYpFbEx6",
        "outputId": "06ae315b-fa58-40de-beb5-720d2708ee73"
      },
      "source": [
        "#get_standardizedの動作確認\r\n",
        "num_date = 5\r\n",
        "X_array_data = get_standardized(X_train,num_date=5)\r\n",
        "X_array_data[0]"
      ],
      "execution_count": null,
      "outputs": [
        {
          "output_type": "execute_result",
          "data": {
            "text/plain": [
              "array([[-0.64235239, -1.00983861, -1.01420225, -1.24303931,  1.54821589],\n",
              "       [-1.03403068, -1.27558561, -1.05321003, -1.00786971,  0.270562  ],\n",
              "       [-0.56401673,  0.3188964 , -0.07801556,  0.20157394, -1.53318467],\n",
              "       [ 1.70771733,  1.38188441,  1.59931894,  1.4110176 ,  0.12024978],\n",
              "       [ 0.53268247,  0.5846434 ,  0.5461089 ,  0.63831748, -0.405843  ]])"
            ]
          },
          "metadata": {
            "tags": []
          },
          "execution_count": 29
        }
      ]
    },
    {
      "cell_type": "code",
      "metadata": {
        "colab": {
          "base_uri": "https://localhost:8080/"
        },
        "id": "XBa1lL9Gbs-l",
        "outputId": "005027e3-62a9-4b01-e2b8-2930a7d54216"
      },
      "source": [
        "#説明変数の5日分化\r\n",
        "\r\n",
        "X_train_t = get_standardized(X_train,num_date)\r\n",
        "X_val_t = get_standardized(X_val,num_date)\r\n",
        "X_test_t = get_standardized(X_test,num_date)\r\n",
        "\r\n",
        "print(X_train_t.shape)\r\n",
        "print()\r\n",
        "print(X_val_t.shape)\r\n",
        "print()\r\n",
        "print(X_test_t.shape)"
      ],
      "execution_count": null,
      "outputs": [
        {
          "output_type": "stream",
          "text": [
            "(1211, 5, 5)\n",
            "\n",
            "(401, 5, 5)\n",
            "\n",
            "(402, 5, 5)\n"
          ],
          "name": "stdout"
        }
      ]
    },
    {
      "cell_type": "code",
      "metadata": {
        "colab": {
          "base_uri": "https://localhost:8080/"
        },
        "id": "YyJqryjRcsNU",
        "outputId": "9fd2393b-03f0-484c-8e3f-de09c30a7752"
      },
      "source": [
        "# 目的変数の5日分化\r\n",
        "\r\n",
        "y_train_t = y_train[num_date-1:]\r\n",
        "y_val_t = y_val[num_date-1:]\r\n",
        "y_test_t = y_test[num_date-1:]\r\n",
        "\r\n",
        "print(y_train_t.shape)\r\n",
        "print()\r\n",
        "print(y_val_t.shape)\r\n",
        "print()\r\n",
        "print(y_test_t.shape)"
      ],
      "execution_count": null,
      "outputs": [
        {
          "output_type": "stream",
          "text": [
            "(1211,)\n",
            "\n",
            "(401,)\n",
            "\n",
            "(402,)\n"
          ],
          "name": "stdout"
        }
      ]
    },
    {
      "cell_type": "markdown",
      "metadata": {
        "id": "grodlqjhd8jR"
      },
      "source": [
        "# ここからはLSTMを用いたネットワークの定義から学習となる。\r\n",
        "\r\n",
        "何もわからんなので、とりあえずQuestのステータスを丸パクリする。\r\n",
        "初期値などを何から始めたらいいのかヒントが有ればいいのだが。"
      ]
    },
    {
      "cell_type": "code",
      "metadata": {
        "id": "RaCxAFeId8Ns"
      },
      "source": [
        "#ネットワークの各層のサイズ\r\n",
        "\r\n",
        "num_l1 = 100\r\n",
        "num_l2 = 20\r\n",
        "num_output = 1\r\n",
        "\r\n",
        "#以下ネットワークの構築\r\n",
        "model = Sequential()\r\n",
        "\r\n",
        "#第1層\r\n",
        "model.add(LSTM(units=num_l1,\r\n",
        "               activation=\"tanh\",\r\n",
        "               batch_input_shape = (None,X_train_t.shape[1],X_train_t.shape[2])))\r\n",
        "#第2層\r\n",
        "model.add(Dense(num_l2,activation = \"relu\"))\r\n",
        "\r\n",
        "#第3層\r\n",
        "model.add(Dense(num_output,activation = \"sigmoid\"))\r\n",
        "\r\n",
        "#ネットワークのコンパイル\r\n",
        "model.compile(loss = \"binary_crossentropy\",optimizer= \"adam\",metrics=[\"accuracy\"])"
      ],
      "execution_count": null,
      "outputs": []
    },
    {
      "cell_type": "code",
      "metadata": {
        "colab": {
          "base_uri": "https://localhost:8080/"
        },
        "id": "HRB02iwWduVL",
        "outputId": "883f0819-f7c7-4f36-9d73-358d1203ef9a"
      },
      "source": [
        "# 学習\r\n",
        "\r\n",
        "result = model.fit(X_train_t,y_train_t,epochs=80,batch_size=24,validation_data=(X_val_t,y_val_t))\r\n"
      ],
      "execution_count": null,
      "outputs": [
        {
          "output_type": "stream",
          "text": [
            "Epoch 1/40\n",
            "51/51 [==============================] - 0s 8ms/step - loss: 0.3599 - accuracy: 0.8159 - val_loss: 1.0021 - val_accuracy: 0.6035\n",
            "Epoch 2/40\n",
            "51/51 [==============================] - 0s 6ms/step - loss: 0.3625 - accuracy: 0.8241 - val_loss: 0.9805 - val_accuracy: 0.6209\n",
            "Epoch 3/40\n",
            "51/51 [==============================] - 0s 6ms/step - loss: 0.3582 - accuracy: 0.8249 - val_loss: 1.0256 - val_accuracy: 0.6234\n",
            "Epoch 4/40\n",
            "51/51 [==============================] - 0s 7ms/step - loss: 0.3281 - accuracy: 0.8340 - val_loss: 1.0893 - val_accuracy: 0.6060\n",
            "Epoch 5/40\n",
            "51/51 [==============================] - 0s 7ms/step - loss: 0.3281 - accuracy: 0.8423 - val_loss: 1.0721 - val_accuracy: 0.6035\n",
            "Epoch 6/40\n",
            "51/51 [==============================] - 0s 7ms/step - loss: 0.3146 - accuracy: 0.8464 - val_loss: 1.1155 - val_accuracy: 0.6160\n",
            "Epoch 7/40\n",
            "51/51 [==============================] - 0s 6ms/step - loss: 0.3202 - accuracy: 0.8448 - val_loss: 1.1340 - val_accuracy: 0.6234\n",
            "Epoch 8/40\n",
            "51/51 [==============================] - 0s 6ms/step - loss: 0.3240 - accuracy: 0.8522 - val_loss: 1.1441 - val_accuracy: 0.6085\n",
            "Epoch 9/40\n",
            "51/51 [==============================] - 0s 7ms/step - loss: 0.3136 - accuracy: 0.8439 - val_loss: 1.1885 - val_accuracy: 0.6085\n",
            "Epoch 10/40\n",
            "51/51 [==============================] - 0s 7ms/step - loss: 0.2894 - accuracy: 0.8497 - val_loss: 1.2108 - val_accuracy: 0.6135\n",
            "Epoch 11/40\n",
            "51/51 [==============================] - 0s 7ms/step - loss: 0.2847 - accuracy: 0.8662 - val_loss: 1.2797 - val_accuracy: 0.6010\n",
            "Epoch 12/40\n",
            "51/51 [==============================] - 0s 8ms/step - loss: 0.2913 - accuracy: 0.8662 - val_loss: 1.3007 - val_accuracy: 0.5910\n",
            "Epoch 13/40\n",
            "51/51 [==============================] - 0s 7ms/step - loss: 0.2892 - accuracy: 0.8671 - val_loss: 1.3127 - val_accuracy: 0.6060\n",
            "Epoch 14/40\n",
            "51/51 [==============================] - 0s 7ms/step - loss: 0.2658 - accuracy: 0.8695 - val_loss: 1.3482 - val_accuracy: 0.6160\n",
            "Epoch 15/40\n",
            "51/51 [==============================] - 0s 7ms/step - loss: 0.2489 - accuracy: 0.8753 - val_loss: 1.4071 - val_accuracy: 0.6135\n",
            "Epoch 16/40\n",
            "51/51 [==============================] - 0s 7ms/step - loss: 0.2375 - accuracy: 0.8803 - val_loss: 1.5053 - val_accuracy: 0.6010\n",
            "Epoch 17/40\n",
            "51/51 [==============================] - 0s 7ms/step - loss: 0.2592 - accuracy: 0.8662 - val_loss: 1.4464 - val_accuracy: 0.6060\n",
            "Epoch 18/40\n",
            "51/51 [==============================] - 0s 7ms/step - loss: 0.2502 - accuracy: 0.8753 - val_loss: 1.4848 - val_accuracy: 0.5960\n",
            "Epoch 19/40\n",
            "51/51 [==============================] - 0s 7ms/step - loss: 0.2710 - accuracy: 0.8662 - val_loss: 1.5324 - val_accuracy: 0.6085\n",
            "Epoch 20/40\n",
            "51/51 [==============================] - 0s 7ms/step - loss: 0.2307 - accuracy: 0.8811 - val_loss: 1.5624 - val_accuracy: 0.6035\n",
            "Epoch 21/40\n",
            "51/51 [==============================] - 0s 7ms/step - loss: 0.2285 - accuracy: 0.8902 - val_loss: 1.6576 - val_accuracy: 0.5985\n",
            "Epoch 22/40\n",
            "51/51 [==============================] - 0s 6ms/step - loss: 0.2236 - accuracy: 0.8910 - val_loss: 1.6424 - val_accuracy: 0.6185\n",
            "Epoch 23/40\n",
            "51/51 [==============================] - 0s 7ms/step - loss: 0.2195 - accuracy: 0.8869 - val_loss: 1.6746 - val_accuracy: 0.5985\n",
            "Epoch 24/40\n",
            "51/51 [==============================] - 0s 7ms/step - loss: 0.2197 - accuracy: 0.8984 - val_loss: 1.7512 - val_accuracy: 0.5935\n",
            "Epoch 25/40\n",
            "51/51 [==============================] - 0s 7ms/step - loss: 0.2023 - accuracy: 0.9042 - val_loss: 1.8555 - val_accuracy: 0.6135\n",
            "Epoch 26/40\n",
            "51/51 [==============================] - 0s 6ms/step - loss: 0.1916 - accuracy: 0.9034 - val_loss: 1.8098 - val_accuracy: 0.6185\n",
            "Epoch 27/40\n",
            "51/51 [==============================] - 0s 6ms/step - loss: 0.1909 - accuracy: 0.9067 - val_loss: 2.0098 - val_accuracy: 0.6110\n",
            "Epoch 28/40\n",
            "51/51 [==============================] - 0s 6ms/step - loss: 0.2301 - accuracy: 0.8869 - val_loss: 1.8275 - val_accuracy: 0.5810\n",
            "Epoch 29/40\n",
            "51/51 [==============================] - 0s 7ms/step - loss: 0.1808 - accuracy: 0.9108 - val_loss: 1.9578 - val_accuracy: 0.6160\n",
            "Epoch 30/40\n",
            "51/51 [==============================] - 0s 7ms/step - loss: 0.1802 - accuracy: 0.9075 - val_loss: 2.1990 - val_accuracy: 0.6010\n",
            "Epoch 31/40\n",
            "51/51 [==============================] - 0s 8ms/step - loss: 0.1880 - accuracy: 0.9009 - val_loss: 1.9363 - val_accuracy: 0.6160\n",
            "Epoch 32/40\n",
            "51/51 [==============================] - 0s 8ms/step - loss: 0.1833 - accuracy: 0.9125 - val_loss: 1.9644 - val_accuracy: 0.6085\n",
            "Epoch 33/40\n",
            "51/51 [==============================] - 0s 7ms/step - loss: 0.1891 - accuracy: 0.9026 - val_loss: 2.1860 - val_accuracy: 0.5885\n",
            "Epoch 34/40\n",
            "51/51 [==============================] - 0s 7ms/step - loss: 0.1719 - accuracy: 0.9158 - val_loss: 2.2019 - val_accuracy: 0.6010\n",
            "Epoch 35/40\n",
            "51/51 [==============================] - 0s 7ms/step - loss: 0.1767 - accuracy: 0.9133 - val_loss: 2.1845 - val_accuracy: 0.6060\n",
            "Epoch 36/40\n",
            "51/51 [==============================] - 0s 6ms/step - loss: 0.1562 - accuracy: 0.9249 - val_loss: 2.2891 - val_accuracy: 0.6010\n",
            "Epoch 37/40\n",
            "51/51 [==============================] - 0s 8ms/step - loss: 0.1585 - accuracy: 0.9191 - val_loss: 2.3207 - val_accuracy: 0.6185\n",
            "Epoch 38/40\n",
            "51/51 [==============================] - 0s 7ms/step - loss: 0.1533 - accuracy: 0.9224 - val_loss: 2.3285 - val_accuracy: 0.6234\n",
            "Epoch 39/40\n",
            "51/51 [==============================] - 0s 7ms/step - loss: 0.1641 - accuracy: 0.9290 - val_loss: 2.2813 - val_accuracy: 0.6035\n",
            "Epoch 40/40\n",
            "51/51 [==============================] - 0s 7ms/step - loss: 0.1631 - accuracy: 0.9141 - val_loss: 2.2957 - val_accuracy: 0.5835\n"
          ],
          "name": "stdout"
        }
      ]
    },
    {
      "cell_type": "code",
      "metadata": {
        "colab": {
          "base_uri": "https://localhost:8080/"
        },
        "id": "XIfzgbEg3XYm",
        "outputId": "2ee7180b-b317-4001-c6bf-33eccea23e89"
      },
      "source": [
        "#学習履歴であるHistory型変数resultの通った履歴(history)は、辞書型である。そのkeysを調べることで、学習曲線がかける\r\n",
        "print(result.history.keys())"
      ],
      "execution_count": null,
      "outputs": [
        {
          "output_type": "stream",
          "text": [
            "dict_keys(['loss', 'accuracy', 'val_loss', 'val_accuracy'])\n"
          ],
          "name": "stdout"
        }
      ]
    },
    {
      "cell_type": "code",
      "metadata": {
        "colab": {
          "base_uri": "https://localhost:8080/",
          "height": 279
        },
        "id": "oHQE-YbchCDg",
        "outputId": "ca125b7a-f021-483f-c72d-3770127e890a"
      },
      "source": [
        "#学習曲線の描画\r\n",
        "plt.plot(result.history[\"loss\"])\r\n",
        "plt.plot(result.history[\"val_loss\"])\r\n",
        "plt.legend([\"train\",\"val\"])\r\n",
        "plt.xlabel(\"Epoch\")\r\n",
        "plt.ylabel(\"Loss\")\r\n",
        "plt.show()"
      ],
      "execution_count": null,
      "outputs": [
        {
          "output_type": "display_data",
          "data": {
            "image/png": "[encoded data removed]",
            "text/plain": [
              "<Figure size 432x288 with 1 Axes>"
            ]
          },
          "metadata": {
            "tags": [],
            "needs_background": "light"
          }
        }
      ]
    },
    {
      "cell_type": "code",
      "metadata": {
        "colab": {
          "base_uri": "https://localhost:8080/",
          "height": 279
        },
        "id": "tOidIfMvh5Xe",
        "outputId": "30d09480-4701-47b0-fec0-48a03126f973"
      },
      "source": [
        "#正解率の表示\r\n",
        "plt.plot(result.history[\"accuracy\"])\r\n",
        "plt.plot(result.history[\"val_accuracy\"])\r\n",
        "plt.legend([\"train\",\"val\"])\r\n",
        "plt.xlabel(\"Epoch\")\r\n",
        "plt.ylabel(\"acc\")\r\n",
        "plt.show()"
      ],
      "execution_count": null,
      "outputs": [
        {
          "output_type": "display_data",
          "data": {
            "image/png": "[encoded data removed]",
            "text/plain": [
              "<Figure size 432x288 with 1 Axes>"
            ]
          },
          "metadata": {
            "tags": [],
            "needs_background": "light"
          }
        }
      ]
    },
    {
      "cell_type": "markdown",
      "metadata": {
        "id": "ixzxW5gL4y2H"
      },
      "source": [
        "検証の時点で汎化性能が低い！"
      ]
    },
    {
      "cell_type": "code",
      "metadata": {
        "colab": {
          "base_uri": "https://localhost:8080/"
        },
        "id": "Qqv977Ya4zWv",
        "outputId": "97fbfce1-f346-4388-fddb-6b46a8f9668a"
      },
      "source": [
        "#評価データでの正解率\r\n",
        "loss, accuracy = model.evaluate(X_test_t,y_test_t)\r\n",
        "print(\"Test Acc:\",accuracy)"
      ],
      "execution_count": null,
      "outputs": [
        {
          "output_type": "stream",
          "text": [
            "13/13 [==============================] - 0s 2ms/step - loss: 2.7428 - accuracy: 0.5622\n",
            "Test Acc: 0.5621890425682068\n"
          ],
          "name": "stdout"
        }
      ]
    },
    {
      "cell_type": "markdown",
      "metadata": {
        "id": "r9-c-op09UmH"
      },
      "source": [
        "正解率がやっぱり低い！(\r\n",
        "とはいえこのまま出しても2位にはなるが。(2020/12/11現在\r\n",
        "\r\n",
        "正答率を上げるための方策として、特徴量を増やしてみる。\r\n",
        "今回増やす特徴量は「どれくらい終わり値が上下したか」である。\r\n",
        "前日比である。"
      ]
    },
    {
      "cell_type": "code",
      "metadata": {
        "colab": {
          "base_uri": "https://localhost:8080/",
          "height": 745
        },
        "id": "U17kA2zU973Z",
        "outputId": "85ae56af-9120-4c4b-c94c-7d28ee22107e"
      },
      "source": [
        "#特徴量追加と再定義\r\n",
        "\r\n",
        "df_rate_train = (train[\"Close\"] - train[\"Close\"].shift(1))/train[\"Close\"].shift(1)\r\n",
        "df_rate_train = df_rate_train.fillna(0)\r\n",
        "print(df_rate_train.head())\r\n",
        "\r\n",
        "df_rate_test = (test[\"Close\"] - test[\"Close\"].shift(1))/test[\"Close\"].shift(1)\r\n",
        "df_rate_test = df_rate_test.fillna(0)\r\n",
        "print(df_rate_test.head())\r\n",
        "\r\n",
        "train[\"Rate\"] = df_rate_train\r\n",
        "test[\"Rate\"] = df_rate_test\r\n",
        "\r\n",
        "X_data_added = train.drop(columns=\"Up\",inplace = False)\r\n",
        "y_data_added = train[\"Up\"]\r\n",
        "\r\n",
        "print(train[\"Rate\"].head())\r\n",
        "print(test[\"Rate\"].head())\r\n",
        "\r\n",
        "X_trainval,X_test, y_trainval,y_test = train_test_split(X_data_added,y_data_added,test_size = 0.2,shuffle = False)\r\n",
        "X_train,X_val, y_train,y_val = train_test_split(X_trainval,y_trainval,test_size = 0.25,shuffle = False)\r\n",
        "\r\n",
        "X_train[\"Close\"].plot()\r\n",
        "X_val[\"Close\"].plot()\r\n",
        "X_test[\"Close\"].plot()\r\n",
        "plt.show()"
      ],
      "execution_count": null,
      "outputs": [
        {
          "output_type": "stream",
          "text": [
            "Date\n",
            "2004-01-02    0.000000\n",
            "2004-01-05    0.001380\n",
            "2004-01-06    0.007088\n",
            "2004-01-07    0.007038\n",
            "2004-01-08   -0.004465\n",
            "Name: Close, dtype: float64\n",
            "Date\n",
            "2012-01-19    0.000000\n",
            "2012-01-20    0.003080\n",
            "2012-01-23   -0.003341\n",
            "2012-01-24   -0.017851\n",
            "2012-01-25   -0.013839\n",
            "Name: Close, dtype: float64\n",
            "Date\n",
            "2004-01-02    0.000000\n",
            "2004-01-05    0.001380\n",
            "2004-01-06    0.007088\n",
            "2004-01-07    0.007038\n",
            "2004-01-08   -0.004465\n",
            "Name: Rate, dtype: float64\n",
            "Date\n",
            "2012-01-19    0.000000\n",
            "2012-01-20    0.003080\n",
            "2012-01-23   -0.003341\n",
            "2012-01-24   -0.017851\n",
            "2012-01-25   -0.013839\n",
            "Name: Rate, dtype: float64\n"
          ],
          "name": "stdout"
        },
        {
          "output_type": "display_data",
          "data": {
            "image/png": "[encoded data removed]",
            "text/plain": [
              "<Figure size 432x288 with 1 Axes>"
            ]
          },
          "metadata": {
            "tags": [],
            "needs_background": "light"
          }
        }
      ]
    },
    {
      "cell_type": "code",
      "metadata": {
        "colab": {
          "base_uri": "https://localhost:8080/"
        },
        "id": "iAZL46aGmm-8",
        "outputId": "79c302cc-b7f6-4f90-f254-bcb19a1a1803"
      },
      "source": [
        "X_train[\"Rate\"].head()"
      ],
      "execution_count": null,
      "outputs": [
        {
          "output_type": "execute_result",
          "data": {
            "text/plain": [
              "Date\n",
              "2004-01-02    0.000000\n",
              "2004-01-05    0.001380\n",
              "2004-01-06    0.007088\n",
              "2004-01-07    0.007038\n",
              "2004-01-08   -0.004465\n",
              "                ...   \n",
              "2008-10-22   -0.024443\n",
              "2008-10-23    0.028634\n",
              "2008-10-24   -0.025964\n",
              "2008-10-27   -0.007557\n",
              "2008-10-28    0.045549\n",
              "Name: Rate, Length: 1215, dtype: float64"
            ]
          },
          "metadata": {
            "tags": []
          },
          "execution_count": 57
        }
      ]
    },
    {
      "cell_type": "code",
      "metadata": {
        "colab": {
          "base_uri": "https://localhost:8080/"
        },
        "id": "9od3vPXztR_j",
        "outputId": "4a948db6-2e7f-4214-9825-23bdefff7c30"
      },
      "source": [
        "#説明変数の5日分化\r\n",
        "\r\n",
        "X_train_t = get_standardized(X_train,num_date)\r\n",
        "X_val_t = get_standardized(X_val,num_date)\r\n",
        "X_test_t = get_standardized(X_test,num_date)\r\n",
        "\r\n",
        "print(X_train_t.shape)\r\n",
        "print()\r\n",
        "print(X_val_t.shape)\r\n",
        "print()\r\n",
        "print(X_test_t.shape)"
      ],
      "execution_count": null,
      "outputs": [
        {
          "output_type": "stream",
          "text": [
            "(1211, 5, 6)\n",
            "\n",
            "(401, 5, 6)\n",
            "\n",
            "(402, 5, 6)\n"
          ],
          "name": "stdout"
        }
      ]
    },
    {
      "cell_type": "code",
      "metadata": {
        "colab": {
          "base_uri": "https://localhost:8080/"
        },
        "id": "6FAz-Oh1tWCd",
        "outputId": "b19ef52e-91f3-40b2-f4f5-acc5ba35032f"
      },
      "source": [
        "# 目的変数の5日分化\r\n",
        "\r\n",
        "y_train_t = y_train[num_date-1:]\r\n",
        "y_val_t = y_val[num_date-1:]\r\n",
        "y_test_t = y_test[num_date-1:]\r\n",
        "\r\n",
        "print(y_train_t.shape)\r\n",
        "print()\r\n",
        "print(y_val_t.shape)\r\n",
        "print()\r\n",
        "print(y_test_t.shape)"
      ],
      "execution_count": null,
      "outputs": [
        {
          "output_type": "stream",
          "text": [
            "(1211,)\n",
            "\n",
            "(401,)\n",
            "\n",
            "(402,)\n"
          ],
          "name": "stdout"
        }
      ]
    },
    {
      "cell_type": "code",
      "metadata": {
        "colab": {
          "base_uri": "https://localhost:8080/"
        },
        "id": "p6NA6fG-taLt",
        "outputId": "a0273bd8-e2b4-44e7-b515-53ec60e3c7a9"
      },
      "source": [
        "#ネットワークの各層のサイズ\r\n",
        "\r\n",
        "num_l1 = 100\r\n",
        "num_l2 = 20\r\n",
        "num_output = 1\r\n",
        "\r\n",
        "#以下ネットワークの構築\r\n",
        "model = Sequential()\r\n",
        "\r\n",
        "\r\n",
        "\r\n",
        "#第1層\r\n",
        "model.add(LSTM(units=num_l1,\r\n",
        "               activation=\"tanh\",\r\n",
        "               batch_input_shape = (None,X_train_t.shape[1],X_train_t.shape[2])))\r\n",
        "#第2層\r\n",
        "model.add(Dense(num_l2,activation = \"relu\"))\r\n",
        "\r\n",
        "#第3層\r\n",
        "model.add(Dense(num_output,activation = \"sigmoid\"))\r\n",
        "\r\n",
        "#ネットワークのコンパイル\r\n",
        "model.compile(loss = \"binary_crossentropy\",optimizer= \"adam\",metrics=[\"accuracy\"])\r\n",
        "\r\n",
        "# 学習\r\n",
        "\r\n",
        "result = model.fit(X_train_t,y_train_t,epochs=40,batch_size=24,validation_data=(X_val_t,y_val_t))\r\n"
      ],
      "execution_count": null,
      "outputs": [
        {
          "output_type": "stream",
          "text": [
            "Epoch 1/40\n",
            "51/51 [==============================] - 1s 16ms/step - loss: 0.6874 - accuracy: 0.5359 - val_loss: 0.6723 - val_accuracy: 0.5935\n",
            "Epoch 2/40\n",
            "51/51 [==============================] - 0s 7ms/step - loss: 0.6725 - accuracy: 0.5723 - val_loss: 0.6489 - val_accuracy: 0.6234\n",
            "Epoch 3/40\n",
            "51/51 [==============================] - 0s 7ms/step - loss: 0.6535 - accuracy: 0.6094 - val_loss: 0.6287 - val_accuracy: 0.6459\n",
            "Epoch 4/40\n",
            "51/51 [==============================] - 0s 6ms/step - loss: 0.6462 - accuracy: 0.6160 - val_loss: 0.6260 - val_accuracy: 0.6459\n",
            "Epoch 5/40\n",
            "51/51 [==============================] - 0s 7ms/step - loss: 0.6414 - accuracy: 0.6317 - val_loss: 0.6241 - val_accuracy: 0.6559\n",
            "Epoch 6/40\n",
            "51/51 [==============================] - 0s 6ms/step - loss: 0.6388 - accuracy: 0.6350 - val_loss: 0.6208 - val_accuracy: 0.6584\n",
            "Epoch 7/40\n",
            "51/51 [==============================] - 0s 6ms/step - loss: 0.6352 - accuracy: 0.6375 - val_loss: 0.6221 - val_accuracy: 0.6534\n",
            "Epoch 8/40\n",
            "51/51 [==============================] - 0s 6ms/step - loss: 0.6343 - accuracy: 0.6375 - val_loss: 0.6298 - val_accuracy: 0.6559\n",
            "Epoch 9/40\n",
            "51/51 [==============================] - 0s 6ms/step - loss: 0.6311 - accuracy: 0.6433 - val_loss: 0.6319 - val_accuracy: 0.6534\n",
            "Epoch 10/40\n",
            "51/51 [==============================] - 0s 6ms/step - loss: 0.6321 - accuracy: 0.6391 - val_loss: 0.6274 - val_accuracy: 0.6534\n",
            "Epoch 11/40\n",
            "51/51 [==============================] - 0s 7ms/step - loss: 0.6261 - accuracy: 0.6367 - val_loss: 0.6207 - val_accuracy: 0.6559\n",
            "Epoch 12/40\n",
            "51/51 [==============================] - 0s 8ms/step - loss: 0.6253 - accuracy: 0.6325 - val_loss: 0.6238 - val_accuracy: 0.6608\n",
            "Epoch 13/40\n",
            "51/51 [==============================] - 0s 8ms/step - loss: 0.6173 - accuracy: 0.6697 - val_loss: 0.6304 - val_accuracy: 0.6509\n",
            "Epoch 14/40\n",
            "51/51 [==============================] - 0s 7ms/step - loss: 0.6174 - accuracy: 0.6482 - val_loss: 0.6218 - val_accuracy: 0.6808\n",
            "Epoch 15/40\n",
            "51/51 [==============================] - 0s 7ms/step - loss: 0.6143 - accuracy: 0.6581 - val_loss: 0.6276 - val_accuracy: 0.6658\n",
            "Epoch 16/40\n",
            "51/51 [==============================] - 0s 7ms/step - loss: 0.6142 - accuracy: 0.6548 - val_loss: 0.6187 - val_accuracy: 0.6509\n",
            "Epoch 17/40\n",
            "51/51 [==============================] - 0s 7ms/step - loss: 0.6066 - accuracy: 0.6713 - val_loss: 0.6238 - val_accuracy: 0.6633\n",
            "Epoch 18/40\n",
            "51/51 [==============================] - 0s 7ms/step - loss: 0.6015 - accuracy: 0.6672 - val_loss: 0.6279 - val_accuracy: 0.6708\n",
            "Epoch 19/40\n",
            "51/51 [==============================] - 0s 7ms/step - loss: 0.6054 - accuracy: 0.6680 - val_loss: 0.6259 - val_accuracy: 0.6608\n",
            "Epoch 20/40\n",
            "51/51 [==============================] - 0s 7ms/step - loss: 0.5954 - accuracy: 0.6705 - val_loss: 0.6231 - val_accuracy: 0.6559\n",
            "Epoch 21/40\n",
            "51/51 [==============================] - 0s 7ms/step - loss: 0.5923 - accuracy: 0.6804 - val_loss: 0.6276 - val_accuracy: 0.6484\n",
            "Epoch 22/40\n",
            "51/51 [==============================] - 0s 7ms/step - loss: 0.5908 - accuracy: 0.6788 - val_loss: 0.6230 - val_accuracy: 0.6633\n",
            "Epoch 23/40\n",
            "51/51 [==============================] - 0s 7ms/step - loss: 0.5805 - accuracy: 0.6813 - val_loss: 0.6278 - val_accuracy: 0.6509\n",
            "Epoch 24/40\n",
            "51/51 [==============================] - 0s 8ms/step - loss: 0.5766 - accuracy: 0.6796 - val_loss: 0.6385 - val_accuracy: 0.6534\n",
            "Epoch 25/40\n",
            "51/51 [==============================] - 0s 7ms/step - loss: 0.5707 - accuracy: 0.7069 - val_loss: 0.6298 - val_accuracy: 0.6633\n",
            "Epoch 26/40\n",
            "51/51 [==============================] - 0s 6ms/step - loss: 0.5644 - accuracy: 0.7036 - val_loss: 0.6368 - val_accuracy: 0.6534\n",
            "Epoch 27/40\n",
            "51/51 [==============================] - 0s 7ms/step - loss: 0.5638 - accuracy: 0.6961 - val_loss: 0.6327 - val_accuracy: 0.6509\n",
            "Epoch 28/40\n",
            "51/51 [==============================] - 0s 6ms/step - loss: 0.5606 - accuracy: 0.6961 - val_loss: 0.6393 - val_accuracy: 0.6459\n",
            "Epoch 29/40\n",
            "51/51 [==============================] - 0s 6ms/step - loss: 0.5483 - accuracy: 0.7135 - val_loss: 0.6382 - val_accuracy: 0.6758\n",
            "Epoch 30/40\n",
            "51/51 [==============================] - 0s 7ms/step - loss: 0.5438 - accuracy: 0.7168 - val_loss: 0.6416 - val_accuracy: 0.6484\n",
            "Epoch 31/40\n",
            "51/51 [==============================] - 0s 7ms/step - loss: 0.5358 - accuracy: 0.7374 - val_loss: 0.6561 - val_accuracy: 0.6658\n",
            "Epoch 32/40\n",
            "51/51 [==============================] - 0s 7ms/step - loss: 0.5310 - accuracy: 0.7283 - val_loss: 0.6519 - val_accuracy: 0.6359\n",
            "Epoch 33/40\n",
            "51/51 [==============================] - 0s 8ms/step - loss: 0.5172 - accuracy: 0.7358 - val_loss: 0.6670 - val_accuracy: 0.6409\n",
            "Epoch 34/40\n",
            "51/51 [==============================] - 0s 6ms/step - loss: 0.5091 - accuracy: 0.7391 - val_loss: 0.6766 - val_accuracy: 0.6434\n",
            "Epoch 35/40\n",
            "51/51 [==============================] - 0s 6ms/step - loss: 0.5002 - accuracy: 0.7506 - val_loss: 0.7017 - val_accuracy: 0.6309\n",
            "Epoch 36/40\n",
            "51/51 [==============================] - 0s 6ms/step - loss: 0.4923 - accuracy: 0.7581 - val_loss: 0.6965 - val_accuracy: 0.6409\n",
            "Epoch 37/40\n",
            "51/51 [==============================] - 0s 7ms/step - loss: 0.4828 - accuracy: 0.7704 - val_loss: 0.7023 - val_accuracy: 0.6359\n",
            "Epoch 38/40\n",
            "51/51 [==============================] - 0s 7ms/step - loss: 0.4788 - accuracy: 0.7688 - val_loss: 0.6907 - val_accuracy: 0.6334\n",
            "Epoch 39/40\n",
            "51/51 [==============================] - 0s 7ms/step - loss: 0.4596 - accuracy: 0.7729 - val_loss: 0.7110 - val_accuracy: 0.5985\n",
            "Epoch 40/40\n",
            "51/51 [==============================] - 0s 7ms/step - loss: 0.4590 - accuracy: 0.7770 - val_loss: 0.7197 - val_accuracy: 0.6384\n"
          ],
          "name": "stdout"
        }
      ]
    },
    {
      "cell_type": "code",
      "metadata": {
        "colab": {
          "base_uri": "https://localhost:8080/",
          "height": 541
        },
        "id": "8H_PgdT9vUPc",
        "outputId": "9d76d563-acea-4d48-c5f9-fdc92b270e33"
      },
      "source": [
        "#学習曲線の描画\r\n",
        "plt.plot(result.history[\"loss\"])\r\n",
        "plt.plot(result.history[\"val_loss\"])\r\n",
        "plt.legend([\"train\",\"val\"])\r\n",
        "plt.xlabel(\"Epoch\")\r\n",
        "plt.ylabel(\"Loss\")\r\n",
        "plt.show()\r\n",
        "#正解率の表示\r\n",
        "plt.plot(result.history[\"accuracy\"])\r\n",
        "plt.plot(result.history[\"val_accuracy\"])\r\n",
        "plt.legend([\"train\",\"val\"])\r\n",
        "plt.xlabel(\"Epoch\")\r\n",
        "plt.ylabel(\"acc\")\r\n",
        "plt.show()"
      ],
      "execution_count": null,
      "outputs": [
        {
          "output_type": "display_data",
          "data": {
            "image/png": "[encoded data removed]",
            "text/plain": [
              "<Figure size 432x288 with 1 Axes>"
            ]
          },
          "metadata": {
            "tags": [],
            "needs_background": "light"
          }
        },
        {
          "output_type": "display_data",
          "data": {
            "image/png": "[encoded data removed]",
            "text/plain": [
              "<Figure size 432x288 with 1 Axes>"
            ]
          },
          "metadata": {
            "tags": [],
            "needs_background": "light"
          }
        }
      ]
    },
    {
      "cell_type": "code",
      "metadata": {
        "colab": {
          "base_uri": "https://localhost:8080/"
        },
        "id": "nxFj46YVvfnu",
        "outputId": "bd405f9a-de5c-4d42-9e9f-fb85f8ce336a"
      },
      "source": [
        "#評価データでの正解率\r\n",
        "loss, accuracy = model.evaluate(X_test_t,y_test_t)\r\n",
        "print(\"Test Acc:\",accuracy)"
      ],
      "execution_count": null,
      "outputs": [
        {
          "output_type": "stream",
          "text": [
            "13/13 [==============================] - 0s 3ms/step - loss: 0.8585 - accuracy: 0.5572\n",
            "Test Acc: 0.5572139024734497\n"
          ],
          "name": "stdout"
        }
      ]
    },
    {
      "cell_type": "markdown",
      "metadata": {
        "id": "XNb0LBPe-rib"
      },
      "source": [
        "正解率がさらに低下。とりあえず進んでDropoutを実装する"
      ]
    },
    {
      "cell_type": "code",
      "metadata": {
        "colab": {
          "base_uri": "https://localhost:8080/"
        },
        "id": "Wfyuwrqu-0ls",
        "outputId": "c985da31-13ff-48cd-d476-739a4f54adae"
      },
      "source": [
        "#ネットワークの各層のサイズ\r\n",
        "\r\n",
        "num_l1 = 100\r\n",
        "num_l2 = 20\r\n",
        "num_output = 1\r\n",
        "\r\n",
        "#DropoutRate\r\n",
        "dropout_rate = 0.4\r\n",
        "#以下ネットワークの構築\r\n",
        "model = Sequential()\r\n",
        "\r\n",
        "\r\n",
        "\r\n",
        "#第1層\r\n",
        "model.add(LSTM(units=num_l1,\r\n",
        "               activation=\"tanh\",\r\n",
        "               batch_input_shape = (None,X_train_t.shape[1],X_train_t.shape[2])))\r\n",
        "model.add(Dropout(dropout_rate))\r\n",
        "#第2層\r\n",
        "model.add(Dense(num_l2,activation = \"relu\"))\r\n",
        "model.add(Dropout(dropout_rate))\r\n",
        "\r\n",
        "#第3層\r\n",
        "model.add(Dense(num_output,activation = \"sigmoid\"))\r\n",
        "\r\n",
        "#ネットワークのコンパイル\r\n",
        "model.compile(loss = \"binary_crossentropy\",optimizer= \"adam\",metrics=[\"accuracy\"])\r\n",
        "\r\n",
        "# 学習\r\n",
        "\r\n",
        "result = model.fit(X_train_t,y_train_t,epochs=40,batch_size=24,validation_data=(X_val_t,y_val_t))\r\n"
      ],
      "execution_count": null,
      "outputs": [
        {
          "output_type": "stream",
          "text": [
            "Epoch 1/40\n",
            "51/51 [==============================] - 1s 17ms/step - loss: 0.6884 - accuracy: 0.5516 - val_loss: 0.6777 - val_accuracy: 0.5910\n",
            "Epoch 2/40\n",
            "51/51 [==============================] - 0s 6ms/step - loss: 0.6797 - accuracy: 0.5491 - val_loss: 0.6672 - val_accuracy: 0.5985\n",
            "Epoch 3/40\n",
            "51/51 [==============================] - 0s 8ms/step - loss: 0.6727 - accuracy: 0.5582 - val_loss: 0.6557 - val_accuracy: 0.6284\n",
            "Epoch 4/40\n",
            "51/51 [==============================] - 0s 7ms/step - loss: 0.6645 - accuracy: 0.5904 - val_loss: 0.6394 - val_accuracy: 0.6484\n",
            "Epoch 5/40\n",
            "51/51 [==============================] - 0s 7ms/step - loss: 0.6522 - accuracy: 0.6168 - val_loss: 0.6319 - val_accuracy: 0.6459\n",
            "Epoch 6/40\n",
            "51/51 [==============================] - 0s 7ms/step - loss: 0.6569 - accuracy: 0.6160 - val_loss: 0.6256 - val_accuracy: 0.6484\n",
            "Epoch 7/40\n",
            "51/51 [==============================] - 0s 6ms/step - loss: 0.6497 - accuracy: 0.6152 - val_loss: 0.6251 - val_accuracy: 0.6584\n",
            "Epoch 8/40\n",
            "51/51 [==============================] - 0s 6ms/step - loss: 0.6456 - accuracy: 0.6358 - val_loss: 0.6261 - val_accuracy: 0.6509\n",
            "Epoch 9/40\n",
            "51/51 [==============================] - 0s 7ms/step - loss: 0.6477 - accuracy: 0.6251 - val_loss: 0.6298 - val_accuracy: 0.6534\n",
            "Epoch 10/40\n",
            "51/51 [==============================] - 0s 7ms/step - loss: 0.6433 - accuracy: 0.6243 - val_loss: 0.6263 - val_accuracy: 0.6534\n",
            "Epoch 11/40\n",
            "51/51 [==============================] - 0s 7ms/step - loss: 0.6361 - accuracy: 0.6367 - val_loss: 0.6278 - val_accuracy: 0.6509\n",
            "Epoch 12/40\n",
            "51/51 [==============================] - 0s 7ms/step - loss: 0.6433 - accuracy: 0.6168 - val_loss: 0.6271 - val_accuracy: 0.6509\n",
            "Epoch 13/40\n",
            "51/51 [==============================] - 0s 7ms/step - loss: 0.6396 - accuracy: 0.6408 - val_loss: 0.6277 - val_accuracy: 0.6434\n",
            "Epoch 14/40\n",
            "51/51 [==============================] - 0s 7ms/step - loss: 0.6398 - accuracy: 0.6284 - val_loss: 0.6296 - val_accuracy: 0.6384\n",
            "Epoch 15/40\n",
            "51/51 [==============================] - 0s 6ms/step - loss: 0.6325 - accuracy: 0.6400 - val_loss: 0.6233 - val_accuracy: 0.6534\n",
            "Epoch 16/40\n",
            "51/51 [==============================] - 0s 8ms/step - loss: 0.6327 - accuracy: 0.6441 - val_loss: 0.6254 - val_accuracy: 0.6584\n",
            "Epoch 17/40\n",
            "51/51 [==============================] - 0s 8ms/step - loss: 0.6315 - accuracy: 0.6474 - val_loss: 0.6239 - val_accuracy: 0.6484\n",
            "Epoch 18/40\n",
            "51/51 [==============================] - 0s 7ms/step - loss: 0.6322 - accuracy: 0.6424 - val_loss: 0.6241 - val_accuracy: 0.6559\n",
            "Epoch 19/40\n",
            "51/51 [==============================] - 0s 7ms/step - loss: 0.6299 - accuracy: 0.6358 - val_loss: 0.6244 - val_accuracy: 0.6633\n",
            "Epoch 20/40\n",
            "51/51 [==============================] - 0s 7ms/step - loss: 0.6336 - accuracy: 0.6325 - val_loss: 0.6231 - val_accuracy: 0.6683\n",
            "Epoch 21/40\n",
            "51/51 [==============================] - 0s 7ms/step - loss: 0.6287 - accuracy: 0.6449 - val_loss: 0.6307 - val_accuracy: 0.6459\n",
            "Epoch 22/40\n",
            "51/51 [==============================] - 0s 8ms/step - loss: 0.6270 - accuracy: 0.6457 - val_loss: 0.6257 - val_accuracy: 0.6584\n",
            "Epoch 23/40\n",
            "51/51 [==============================] - 0s 7ms/step - loss: 0.6192 - accuracy: 0.6482 - val_loss: 0.6244 - val_accuracy: 0.6658\n",
            "Epoch 24/40\n",
            "51/51 [==============================] - 0s 7ms/step - loss: 0.6258 - accuracy: 0.6532 - val_loss: 0.6264 - val_accuracy: 0.6658\n",
            "Epoch 25/40\n",
            "51/51 [==============================] - 0s 7ms/step - loss: 0.6203 - accuracy: 0.6548 - val_loss: 0.6310 - val_accuracy: 0.6559\n",
            "Epoch 26/40\n",
            "51/51 [==============================] - 0s 7ms/step - loss: 0.6156 - accuracy: 0.6466 - val_loss: 0.6312 - val_accuracy: 0.6534\n",
            "Epoch 27/40\n",
            "51/51 [==============================] - 0s 6ms/step - loss: 0.6125 - accuracy: 0.6457 - val_loss: 0.6271 - val_accuracy: 0.6384\n",
            "Epoch 28/40\n",
            "51/51 [==============================] - 0s 7ms/step - loss: 0.6230 - accuracy: 0.6499 - val_loss: 0.6262 - val_accuracy: 0.6658\n",
            "Epoch 29/40\n",
            "51/51 [==============================] - 0s 7ms/step - loss: 0.6148 - accuracy: 0.6664 - val_loss: 0.6250 - val_accuracy: 0.6559\n",
            "Epoch 30/40\n",
            "51/51 [==============================] - 0s 6ms/step - loss: 0.6137 - accuracy: 0.6507 - val_loss: 0.6279 - val_accuracy: 0.6534\n",
            "Epoch 31/40\n",
            "51/51 [==============================] - 0s 7ms/step - loss: 0.6055 - accuracy: 0.6705 - val_loss: 0.6263 - val_accuracy: 0.6658\n",
            "Epoch 32/40\n",
            "51/51 [==============================] - 0s 6ms/step - loss: 0.5989 - accuracy: 0.6672 - val_loss: 0.6347 - val_accuracy: 0.6534\n",
            "Epoch 33/40\n",
            "51/51 [==============================] - 0s 6ms/step - loss: 0.6044 - accuracy: 0.6631 - val_loss: 0.6356 - val_accuracy: 0.6484\n",
            "Epoch 34/40\n",
            "51/51 [==============================] - 0s 7ms/step - loss: 0.6013 - accuracy: 0.6672 - val_loss: 0.6298 - val_accuracy: 0.6534\n",
            "Epoch 35/40\n",
            "51/51 [==============================] - 0s 8ms/step - loss: 0.5952 - accuracy: 0.6722 - val_loss: 0.6314 - val_accuracy: 0.6608\n",
            "Epoch 36/40\n",
            "51/51 [==============================] - 0s 7ms/step - loss: 0.5979 - accuracy: 0.6647 - val_loss: 0.6332 - val_accuracy: 0.6384\n",
            "Epoch 37/40\n",
            "51/51 [==============================] - 0s 7ms/step - loss: 0.6010 - accuracy: 0.6565 - val_loss: 0.6341 - val_accuracy: 0.6359\n",
            "Epoch 38/40\n",
            "51/51 [==============================] - 0s 7ms/step - loss: 0.5888 - accuracy: 0.6722 - val_loss: 0.6293 - val_accuracy: 0.6733\n",
            "Epoch 39/40\n",
            "51/51 [==============================] - 0s 7ms/step - loss: 0.5915 - accuracy: 0.6713 - val_loss: 0.6344 - val_accuracy: 0.6608\n",
            "Epoch 40/40\n",
            "51/51 [==============================] - 0s 7ms/step - loss: 0.5796 - accuracy: 0.6862 - val_loss: 0.6438 - val_accuracy: 0.6484\n"
          ],
          "name": "stdout"
        }
      ]
    },
    {
      "cell_type": "code",
      "metadata": {
        "colab": {
          "base_uri": "https://localhost:8080/",
          "height": 575
        },
        "id": "MjnCh4eY_XNn",
        "outputId": "64926bee-4f5b-4b7b-d814-9b3760b07c81"
      },
      "source": [
        "#学習曲線の描画\r\n",
        "plt.plot(result.history[\"loss\"])\r\n",
        "plt.plot(result.history[\"val_loss\"])\r\n",
        "plt.legend([\"train\",\"val\"])\r\n",
        "plt.xlabel(\"Epoch\")\r\n",
        "plt.ylabel(\"Loss\")\r\n",
        "plt.show()\r\n",
        "#正解率の表示\r\n",
        "plt.plot(result.history[\"accuracy\"])\r\n",
        "plt.plot(result.history[\"val_accuracy\"])\r\n",
        "plt.legend([\"train\",\"val\"])\r\n",
        "plt.xlabel(\"Epoch\")\r\n",
        "plt.ylabel(\"acc\")\r\n",
        "plt.show()\r\n",
        "\r\n",
        "#評価データでの正解率\r\n",
        "loss, accuracy = model.evaluate(X_test_t,y_test_t)\r\n",
        "print(\"Test Acc:\",accuracy)"
      ],
      "execution_count": null,
      "outputs": [
        {
          "output_type": "display_data",
          "data": {
            "image/png": "[encoded data removed]",
            "text/plain": [
              "<Figure size 432x288 with 1 Axes>"
            ]
          },
          "metadata": {
            "tags": [],
            "needs_background": "light"
          }
        },
        {
          "output_type": "display_data",
          "data": {
            "image/png": "[encoded data removed]",
            "text/plain": [
              "<Figure size 432x288 with 1 Axes>"
            ]
          },
          "metadata": {
            "tags": [],
            "needs_background": "light"
          }
        },
        {
          "output_type": "stream",
          "text": [
            "13/13 [==============================] - 0s 2ms/step - loss: 0.7116 - accuracy: 0.5945\n",
            "Test Acc: 0.5945273637771606\n"
          ],
          "name": "stdout"
        }
      ]
    },
    {
      "cell_type": "markdown",
      "metadata": {
        "id": "TTQJ280kAC6o"
      },
      "source": [
        "40エポックぐらいが過学習が起きるまえっぽいが、次に進む。\r\n",
        "改めX_testデータで予測を行う。出力は0 or 1。\r\n"
      ]
    },
    {
      "cell_type": "code",
      "metadata": {
        "colab": {
          "base_uri": "https://localhost:8080/"
        },
        "id": "RgVNGyMCAWoX",
        "outputId": "ba029b08-f854-42e2-f4b2-8cd6ffa3b622"
      },
      "source": [
        "y_test"
      ],
      "execution_count": null,
      "outputs": [
        {
          "output_type": "execute_result",
          "data": {
            "text/plain": [
              "Date\n",
              "2010-06-10    1\n",
              "2010-06-11    1\n",
              "2010-06-14    1\n",
              "2010-06-15    1\n",
              "2010-06-16    0\n",
              "             ..\n",
              "2012-01-11    1\n",
              "2012-01-12    0\n",
              "2012-01-13    1\n",
              "2012-01-17    1\n",
              "2012-01-18    0\n",
              "Name: Up, Length: 406, dtype: int64"
            ]
          },
          "metadata": {
            "tags": []
          },
          "execution_count": 68
        }
      ]
    },
    {
      "cell_type": "code",
      "metadata": {
        "id": "ELY8Wq12JCoI"
      },
      "source": [
        "pred_prob = model.predict(X_test_t)\r\n",
        "pred_prob[:10]\r\n",
        "pred = np.round(pred_prob[:])\r\n",
        "pred[:10]\r\n",
        "accuracy = accuracy_score(y_true = y_test_t,y_pred = pred)\r\n",
        "print(accuracy)"
      ],
      "execution_count": null,
      "outputs": []
    },
    {
      "cell_type": "code",
      "metadata": {
        "id": "wSBD2bHcIjzd"
      },
      "source": [
        "pred_prob = model.predict(X_test_t)\r\n",
        "pred_prob[:10]\r\n",
        "pred = np.round(pred_prob[:])\r\n",
        "pred[:10]\r\n",
        "accuracy = accuracy_score(y_true = y_test_t,y_pred = pred)\r\n",
        "print(accuracy)"
      ],
      "execution_count": null,
      "outputs": []
    },
    {
      "cell_type": "code",
      "metadata": {
        "id": "YBpCKfaXDuIq"
      },
      "source": [
        "#以下本番用テストデータの標準化とかから\r\n"
      ],
      "execution_count": null,
      "outputs": []
    },
    {
      "cell_type": "code",
      "metadata": {
        "colab": {
          "base_uri": "https://localhost:8080/"
        },
        "id": "hcJfL5WpAdu4",
        "outputId": "40343b2a-4233-4bf4-8ce5-99a084e29eeb"
      },
      "source": [
        "# 目的変数の5日分化(不要では？)\r\n",
        "X_test_t = get_standardized(test,num_date)\r\n",
        "print(X_test_t.shape)\r\n",
        "print()\r\n",
        "print(test.shape)"
      ],
      "execution_count": null,
      "outputs": [
        {
          "output_type": "stream",
          "text": [
            "(1196, 5, 6)\n",
            "\n",
            "(1200, 6)\n"
          ],
          "name": "stdout"
        }
      ]
    },
    {
      "cell_type": "code",
      "metadata": {
        "colab": {
          "base_uri": "https://localhost:8080/"
        },
        "id": "3bgy7JolJe5n",
        "outputId": "bd7539d8-5260-430c-fdc0-35b2b0de2b41"
      },
      "source": [
        "print(X_test.shape)\r\n",
        "pred_sub = model.predict(X_test_t)"
      ],
      "execution_count": null,
      "outputs": [
        {
          "output_type": "stream",
          "text": [
            "(1200, 6)\n"
          ],
          "name": "stdout"
        }
      ]
    },
    {
      "cell_type": "markdown",
      "metadata": {
        "id": "SWKjKxQwPXzG"
      },
      "source": [
        "本番データでの予測ができたら、提出用ファイルをつくる。\r\n",
        "今回は[日付、1 or 0]の200行が必要。\r\n",
        "\r\n",
        "まずは提出用の日付を作る"
      ]
    },
    {
      "cell_type": "code",
      "metadata": {
        "colab": {
          "base_uri": "https://localhost:8080/"
        },
        "id": "w55WG6aMVKMN",
        "outputId": "e739a010-4d73-4e3b-b864-57f0cd85145e"
      },
      "source": [
        "test.index"
      ],
      "execution_count": null,
      "outputs": [
        {
          "output_type": "execute_result",
          "data": {
            "text/plain": [
              "DatetimeIndex(['2012-01-19', '2012-01-20', '2012-01-23', '2012-01-24',\n",
              "               '2012-01-25', '2012-01-26', '2012-02-02', '2012-02-03',\n",
              "               '2012-02-06', '2012-02-07',\n",
              "               ...\n",
              "               '2019-12-04', '2019-12-05', '2019-12-06', '2019-12-09',\n",
              "               '2019-12-16', '2019-12-17', '2019-12-18', '2019-12-19',\n",
              "               '2019-12-20', '2019-12-23'],\n",
              "              dtype='datetime64[ns]', name='Date', length=1200, freq=None)"
            ]
          },
          "metadata": {
            "tags": []
          },
          "execution_count": 161
        }
      ]
    },
    {
      "cell_type": "markdown",
      "metadata": {
        "id": "p5GWpA8_dB_3"
      },
      "source": [
        "\r\n",
        "\r\n",
        "> 今回提出ファイルの日付がYYYY/MM/(1桁)/DD(1桁)の形式のため、Formatを変更する。\r\n",
        "DatetimeIndexのフォーマットについては以下サイトを参考にしながら半信半疑でやったが、うまく行った。ただ、一度X_testのインデックスをかえたらtestのインデックスも変わったように見えたし再読み込みしたのでそこは謎が残るが。とにかく0埋めの%mにたいして0埋めないものは%-mであった。\r\n",
        "\r\n",
        "これはクソッタレExcelのせいで表記が揺れていただけだった。\r\n",
        "Formatはyyyy-mm-ddであった。FXXX。\r\n",
        "\r\n",
        "\r\n",
        "\r\n",
        "\r\n",
        "参考\r\n",
        "https://stackoverrun.com/ja/q/12908501\r\n",
        "https://python.keicode.com/lang/format-datetime.php#2"
      ]
    },
    {
      "cell_type": "code",
      "metadata": {
        "colab": {
          "base_uri": "https://localhost:8080/"
        },
        "id": "sq2nAR0YPmuU",
        "outputId": "c9b00a74-e92c-4a37-997b-3c80c23f41b8"
      },
      "source": [
        "X_test = test\r\n",
        "#X_test.index = X_test.index.format(formatter=lambda t: f'{t:%Y/%-m/%-d}')\r\n",
        "X_test_picked = X_test.index[5::6]\r\n",
        "print(X_test_picked)\r\n",
        "print(X_test_picked.shape)"
      ],
      "execution_count": null,
      "outputs": [
        {
          "output_type": "stream",
          "text": [
            "DatetimeIndex(['2012-01-26', '2012-02-09', '2012-02-24', '2012-03-09',\n",
            "               '2012-03-23', '2012-04-09', '2012-04-23', '2012-05-07',\n",
            "               '2012-05-21', '2012-06-05',\n",
            "               ...\n",
            "               '2019-08-15', '2019-08-29', '2019-09-13', '2019-09-27',\n",
            "               '2019-10-11', '2019-10-25', '2019-11-08', '2019-11-22',\n",
            "               '2019-12-09', '2019-12-23'],\n",
            "              dtype='datetime64[ns]', name='Date', length=200, freq=None)\n",
            "(200,)\n"
          ],
          "name": "stdout"
        }
      ]
    },
    {
      "cell_type": "code",
      "metadata": {
        "colab": {
          "base_uri": "https://localhost:8080/"
        },
        "id": "Jc3bl7j_JAhP",
        "outputId": "7ded888f-7102-414a-bd7a-f8591952aab2"
      },
      "source": [
        "pred_sub[:10]"
      ],
      "execution_count": null,
      "outputs": [
        {
          "output_type": "execute_result",
          "data": {
            "text/plain": [
              "array([[0.97362316],\n",
              "       [0.44604045],\n",
              "       [0.47462058],\n",
              "       [0.46643993],\n",
              "       [0.02054283],\n",
              "       [0.8528793 ],\n",
              "       [0.04644278],\n",
              "       [0.6104676 ],\n",
              "       [0.8166307 ],\n",
              "       [0.5002234 ]], dtype=float32)"
            ]
          },
          "metadata": {
            "tags": []
          },
          "execution_count": 186
        }
      ]
    },
    {
      "cell_type": "code",
      "metadata": {
        "colab": {
          "base_uri": "https://localhost:8080/"
        },
        "id": "3jf0UEYyOLMl",
        "outputId": "a4c680f2-c3fe-4aab-ddf1-55a57cf599bf"
      },
      "source": [
        "pred_sub.shape"
      ],
      "execution_count": null,
      "outputs": [
        {
          "output_type": "execute_result",
          "data": {
            "text/plain": [
              "(1196, 1)"
            ]
          },
          "metadata": {
            "tags": []
          },
          "execution_count": 164
        }
      ]
    },
    {
      "cell_type": "markdown",
      "metadata": {
        "id": "mcV-s8MDO1Lc"
      },
      "source": [
        "1196件のデータのうち、提出に必要なものは、6日ごとのデータ。\r\n",
        "X_test_t(本番予測データtestを5日化してpredict通したもの)は5日めのデータから始まるため、2番目のデータから6区切りで値をひろう必要がある。\r\n",
        "\r\n",
        "今回は提出するファイルがたまたま6日に1度のデータだったので良かったが、\r\n",
        "5日分のデータ読み込みしたあと、それを使うような場合はどうすればいいのかはわからぬまま。偉い人教えてほしい。"
      ]
    },
    {
      "cell_type": "code",
      "metadata": {
        "id": "RNggA_TTNtxv"
      },
      "source": [
        "pred_sub_picked = pred_sub[1::6]"
      ],
      "execution_count": null,
      "outputs": []
    },
    {
      "cell_type": "code",
      "metadata": {
        "colab": {
          "base_uri": "https://localhost:8080/"
        },
        "id": "j4IfdYcnN49Q",
        "outputId": "a8b57d88-6b5a-4fb5-a306-3d5f56c64c02"
      },
      "source": [
        "pred_sub_picked.shape"
      ],
      "execution_count": null,
      "outputs": [
        {
          "output_type": "execute_result",
          "data": {
            "text/plain": [
              "(200, 1)"
            ]
          },
          "metadata": {
            "tags": []
          },
          "execution_count": 188
        }
      ]
    },
    {
      "cell_type": "code",
      "metadata": {
        "id": "AOAFNbGwQ2rC"
      },
      "source": [
        "# 予測値を0 or 1に丸める\r\n",
        "# roundをかけるとfloat64で出てくるのをさらにastypeでdtypeをint64に変換\r\n",
        "pred_sub_rounded = np.round(pred_sub_picked[:])\r\n",
        "pred_sub_rounded = pred_sub_rounded.astype(\"int64\")"
      ],
      "execution_count": null,
      "outputs": []
    },
    {
      "cell_type": "code",
      "metadata": {
        "colab": {
          "base_uri": "https://localhost:8080/"
        },
        "id": "WzcKaqmSi5Qg",
        "outputId": "9a550302-89a6-4764-b38f-efccb0cfe5f5"
      },
      "source": [
        "pred_sub_rounded.dtype"
      ],
      "execution_count": null,
      "outputs": [
        {
          "output_type": "execute_result",
          "data": {
            "text/plain": [
              "dtype('int64')"
            ]
          },
          "metadata": {
            "tags": []
          },
          "execution_count": 212
        }
      ]
    },
    {
      "cell_type": "code",
      "metadata": {
        "id": "yH0UXq5WQYw5"
      },
      "source": [
        "sub = submit"
      ],
      "execution_count": null,
      "outputs": []
    },
    {
      "cell_type": "markdown",
      "metadata": {
        "id": "fh-clx4QeJlp"
      },
      "source": [
        "indexはindexで書き換えられるが、今回はいらなかった機運が強い。まぁ書き換えたが。"
      ]
    },
    {
      "cell_type": "code",
      "metadata": {
        "id": "3XJMR_uPQbFV"
      },
      "source": [
        "sub.index = X_test.index[5::6]"
      ],
      "execution_count": null,
      "outputs": []
    },
    {
      "cell_type": "code",
      "metadata": {
        "id": "xzqOOKyqQo-E"
      },
      "source": [
        "sub[\"Up\"] = pred_sub_rounded"
      ],
      "execution_count": null,
      "outputs": []
    },
    {
      "cell_type": "code",
      "metadata": {
        "colab": {
          "base_uri": "https://localhost:8080/",
          "height": 450
        },
        "id": "NKs_0x3vQyXO",
        "outputId": "1c62b501-f810-4441-ae0a-91dd0622299f"
      },
      "source": [
        "sub"
      ],
      "execution_count": null,
      "outputs": [
        {
          "output_type": "execute_result",
          "data": {
            "text/html": [
              "<div>\n",
              "<style scoped>\n",
              "    .dataframe tbody tr th:only-of-type {\n",
              "        vertical-align: middle;\n",
              "    }\n",
              "\n",
              "    .dataframe tbody tr th {\n",
              "        vertical-align: top;\n",
              "    }\n",
              "\n",
              "    .dataframe thead th {\n",
              "        text-align: right;\n",
              "    }\n",
              "</style>\n",
              "<table border=\"1\" class=\"dataframe\">\n",
              "  <thead>\n",
              "    <tr style=\"text-align: right;\">\n",
              "      <th></th>\n",
              "      <th>Up</th>\n",
              "    </tr>\n",
              "    <tr>\n",
              "      <th>Date</th>\n",
              "      <th></th>\n",
              "    </tr>\n",
              "  </thead>\n",
              "  <tbody>\n",
              "    <tr>\n",
              "      <th>2012-01-26</th>\n",
              "      <td>0</td>\n",
              "    </tr>\n",
              "    <tr>\n",
              "      <th>2012-02-09</th>\n",
              "      <td>1</td>\n",
              "    </tr>\n",
              "    <tr>\n",
              "      <th>2012-02-24</th>\n",
              "      <td>0</td>\n",
              "    </tr>\n",
              "    <tr>\n",
              "      <th>2012-03-09</th>\n",
              "      <td>0</td>\n",
              "    </tr>\n",
              "    <tr>\n",
              "      <th>2012-03-23</th>\n",
              "      <td>0</td>\n",
              "    </tr>\n",
              "    <tr>\n",
              "      <th>...</th>\n",
              "      <td>...</td>\n",
              "    </tr>\n",
              "    <tr>\n",
              "      <th>2019-10-25</th>\n",
              "      <td>1</td>\n",
              "    </tr>\n",
              "    <tr>\n",
              "      <th>2019-11-08</th>\n",
              "      <td>1</td>\n",
              "    </tr>\n",
              "    <tr>\n",
              "      <th>2019-11-22</th>\n",
              "      <td>0</td>\n",
              "    </tr>\n",
              "    <tr>\n",
              "      <th>2019-12-09</th>\n",
              "      <td>0</td>\n",
              "    </tr>\n",
              "    <tr>\n",
              "      <th>2019-12-23</th>\n",
              "      <td>0</td>\n",
              "    </tr>\n",
              "  </tbody>\n",
              "</table>\n",
              "<p>200 rows × 1 columns</p>\n",
              "</div>"
            ],
            "text/plain": [
              "            Up\n",
              "Date          \n",
              "2012-01-26   0\n",
              "2012-02-09   1\n",
              "2012-02-24   0\n",
              "2012-03-09   0\n",
              "2012-03-23   0\n",
              "...         ..\n",
              "2019-10-25   1\n",
              "2019-11-08   1\n",
              "2019-11-22   0\n",
              "2019-12-09   0\n",
              "2019-12-23   0\n",
              "\n",
              "[200 rows x 1 columns]"
            ]
          },
          "metadata": {
            "tags": []
          },
          "execution_count": 216
        }
      ]
    },
    {
      "cell_type": "code",
      "metadata": {
        "colab": {
          "base_uri": "https://localhost:8080/"
        },
        "id": "m2yVySzUV_DE",
        "outputId": "19ae8186-f8b7-4a62-e6ab-47443f1a5c61"
      },
      "source": [
        "sub.to_csv(\"submission.csv\",index = True, header = False)\r\n",
        "print(\"Submited\") "
      ],
      "execution_count": null,
      "outputs": [
        {
          "output_type": "stream",
          "text": [
            "Submited\n"
          ],
          "name": "stdout"
        }
      ]
    },
    {
      "cell_type": "code",
      "metadata": {
        "colab": {
          "base_uri": "https://localhost:8080/"
        },
        "id": "aGOlxPSrV-cn",
        "outputId": "f5a07cc9-6ffc-4c60-a3d4-0156ab22f9a4"
      },
      "source": [
        "!signate submit -c 409 submission.csv"
      ],
      "execution_count": null,
      "outputs": [
        {
          "output_type": "stream",
          "text": [
            "\u001b[32mYou have successfully submitted your predictions.We will send you the submission result to your email address.\u001b[0m\n"
          ],
          "name": "stdout"
        }
      ]
    }
  ]
}