{
  "nbformat": 4,
  "nbformat_minor": 0,
  "metadata": {
    "colab": {
      "name": "Signate API Minimum Template.ipynb",
      "provenance": [],
      "collapsed_sections": [],
      "authorship_tag": "ABX9TyMNl1KBdVLgUDvG3BQlU9cM",
      "include_colab_link": true
    },
    "kernelspec": {
      "name": "python3",
      "display_name": "Python 3"
    }
  },
  "cells": [
    {
      "cell_type": "markdown",
      "metadata": {
        "id": "view-in-github",
        "colab_type": "text"
      },
      "source": [
        "<a href=\"https://colab.research.google.com/github/kibutan/signate/blob/main/Signate_API_Minimum_Template.ipynb\" target=\"_parent\"><img src=\"https://colab.research.google.com/assets/colab-badge.svg\" alt=\"Open In Colab\"/></a>"
      ]
    },
    {
      "cell_type": "code",
      "metadata": {
        "id": "Vp-S9Lh8LpVG",
        "outputId": "9b30dd8e-0800-4340-82e5-5ac86af750c6",
        "colab": {
          "base_uri": "https://localhost:8080/",
          "height": 153
        }
      },
      "source": [
        "%pip install signate"
      ],
      "execution_count": null,
      "outputs": [
        {
          "output_type": "stream",
          "text": [
            "Requirement already satisfied: signate in /usr/local/lib/python3.6/dist-packages (0.9.7)\n",
            "Requirement already satisfied: tabulate in /usr/local/lib/python3.6/dist-packages (from signate) (0.8.7)\n",
            "Requirement already satisfied: six>=1.10 in /usr/local/lib/python3.6/dist-packages (from signate) (1.15.0)\n",
            "Requirement already satisfied: click in /usr/local/lib/python3.6/dist-packages (from signate) (7.1.2)\n",
            "Requirement already satisfied: wget in /usr/local/lib/python3.6/dist-packages (from signate) (3.2)\n",
            "Requirement already satisfied: certifi in /usr/local/lib/python3.6/dist-packages (from signate) (2020.6.20)\n",
            "Requirement already satisfied: python-dateutil in /usr/local/lib/python3.6/dist-packages (from signate) (2.8.1)\n",
            "Requirement already satisfied: urllib3>=1.25.3 in /usr/local/lib/python3.6/dist-packages (from signate) (1.25.10)\n"
          ],
          "name": "stdout"
        }
      ]
    },
    {
      "cell_type": "code",
      "metadata": {
        "id": "AlbA3y392-U5",
        "outputId": "9dfe7e8b-8499-4362-b86f-db558ea4fde3",
        "colab": {
          "base_uri": "https://localhost:8080/",
          "height": 34
        }
      },
      "source": [
        "#kaggle.jsonをGoogle Drive からひっぱってくるやつ\n",
        "from googleapiclient.discovery import build\n",
        "import io, os\n",
        "from googleapiclient.http import MediaIoBaseDownload\n",
        "from google.colab import auth\n",
        "\n",
        "auth.authenticate_user()\n",
        "\n",
        "drive_service = build('drive', 'v3')\n",
        "results = drive_service.files().list(\n",
        "        q=\"name = 'signate.json'\", fields=\"files(id)\").execute()\n",
        "kaggle_api_key = results.get('files', [])\n",
        "\n",
        "filename = \"/root/.signate/signate.json\"\n",
        "os.makedirs(os.path.dirname(filename), exist_ok=True)\n",
        "\n",
        "request = drive_service.files().get_media(fileId=kaggle_api_key[0]['id'])\n",
        "fh = io.FileIO(filename, 'wb')\n",
        "downloader = MediaIoBaseDownload(fh, request)\n",
        "done = False\n",
        "while done is False:\n",
        "    status, done = downloader.next_chunk()\n",
        "    print(\"Download %d%%.\" % int(status.progress() * 100))\n",
        "os.chmod(filename, 600)"
      ],
      "execution_count": null,
      "outputs": [
        {
          "output_type": "stream",
          "text": [
            "Download 100%.\n"
          ],
          "name": "stdout"
        }
      ]
    },
    {
      "cell_type": "code",
      "metadata": {
        "id": "Pw8fOxoCLpu4",
        "outputId": "96a0fd43-9fe4-46e3-f128-4d52734bbdae",
        "colab": {
          "base_uri": "https://localhost:8080/",
          "height": 680
        }
      },
      "source": [
        "!signate list"
      ],
      "execution_count": null,
      "outputs": [
        {
          "output_type": "stream",
          "text": [
            "  competitionId  title                                                              closing     prize                             submitters\n",
            "---------------  -----------------------------------------------------------------  ----------  ------------------------------  ------------\n",
            "              1  【練習問題】銀行の顧客ターゲティング                               -                                                   4160\n",
            "             24  【練習問題】お弁当の需要予測                                       -                                                   4942\n",
            "             27  【練習問題】Jリーグの観客動員数予測                                -                                                   1039\n",
            "            100  【練習問題】手書き文字認識                                         -           Knowledge                                100\n",
            "            102  【練習問題】タイタニックの生存予測                                 -           Knowledge                                397\n",
            "            103  【練習問題】音楽ラベリング                                         -           Knowledge                                 27\n",
            "            104  【練習問題】スパムメール分類                                       -           Knowledge                                 85\n",
            "            105  【練習問題】毒キノコの分類                                         -           Knowledge                                178\n",
            "            106  【練習問題】アワビの年齢予測                                       -           Knowledge                                276\n",
            "            107  【練習問題】国勢調査からの収入予測                                 -           Knowledge                                388\n",
            "            108  【練習問題】画像ラベリング（２０種類）                             -           Knowledge                                151\n",
            "            112  【練習問題】ワインの品種の予測                                     -           Knowledge                                242\n",
            "            114  【練習問題】レンタル自転車の利用者数予測                           -           Knowledge                                290\n",
            "            115  【練習問題】アヤメの分類                                           -           Knowledge                                233\n",
            "            121  【練習問題】自動車の走行距離予測                                   -           Knowledge                                679\n",
            "            122  【練習問題】自動車の評価                                           -           Knowledge                                235\n",
            "            124  【練習問題】ボットの判別                                           -           Knowledge                                218\n",
            "            132  【練習問題】ネット広告のクリック予測                               -           Knowledge                                110\n",
            "            133  【練習問題】画像ラベリング（１０種類）                             -                                                    260\n",
            "            135  【練習問題】ネット画像の分類                                       -                                                     64\n",
            "            262  【SOTA】国立国会図書館の画像データレイアウト認識                   2100-12-31  -                                          8\n",
            "            263  【SOTA】産業技術総合研究所 衛星画像分析コンテスト                  2100-12-31  -                                          5\n",
            "            264  【SOTA】マイナビ × SIGNATE Student Cup 2019: 賃貸物件の家賃予測    2100-12-31  -                                        117\n",
            "            265  【練習問題】健診データによる肝疾患判定                             -                                                    177\n",
            "            266  【練習問題】民泊サービスの宿泊価格予測                             -                                                    164\n",
            "            267  【SOTA】海洋研究開発機構 熱帯低気圧（台風等）検出アルゴリズム作成  2100-12-31  -                                          4\n",
            "            268  【SOTA】オプト レコメンドエンジン作成                              2100-12-31                                             4\n",
            "            269  【SOTA】アップル 引越し需要予測                                    2100-12-31  -                                         46\n",
            "            270  【SOTA】Weather Challenge：雲画像予測                              2100-12-31  -                                          2\n",
            "            271  【SOTA】JR西日本 走行中の北陸新幹線車両台車部の着雪量予測          2100-12-31  -                                          0\n",
            "            284  The 4th Tellus Satellite Challenge：海岸線の抽出                   2020-11-06  Total Prize: ¥2,000,000                   91\n",
            "            285  第4回AIエッジコンテスト（実装コンテスト②）                         2020-12-31  TBA                                       23\n",
            "            288  【SOTA】Sansan 名刺の項目予測                                      2100-12-31  -                                          4\n",
            "            294  【練習問題】債務不履行リスクの低減                                 -                                                     24\n",
            "            295  【第3回_Beginner限定コンペ】債務不履行リスクの低減                 2020-10-31                                           130\n",
            "            350  COVID-19チャレンジ（フェーズ3 - ラウンド13）                       2020-11-08  社会貢献・名誉・著作クレジット             0\n",
            "            358  【練習問題】機械稼働音の異常検知                                   -                                                      1\n"
          ],
          "name": "stdout"
        }
      ]
    },
    {
      "cell_type": "markdown",
      "metadata": {
        "id": "rMqjLyDO5ahh"
      },
      "source": [
        ""
      ]
    },
    {
      "cell_type": "code",
      "metadata": {
        "id": "qm-mWX5DMbER",
        "outputId": "4681d82c-45b5-4fd6-8fcc-97963b5f93d9",
        "colab": {
          "base_uri": "https://localhost:8080/",
          "height": 153
        }
      },
      "source": [
        "#規約同意前ならエラーを返す。yを入力後再実行でダウンロードが可能に。\n",
        "#指定しない限り、カレントディレクトリにデータは降りる。\n",
        "!signate download -c 294"
      ],
      "execution_count": null,
      "outputs": [
        {
          "output_type": "stream",
          "text": [
            "submit.csv\n",
            "\n",
            "test.csv\n",
            "\n",
            "train.csv\n",
            "\n",
            "\u001b[32m\n",
            "Download completed.\u001b[0m\n"
          ],
          "name": "stdout"
        }
      ]
    },
    {
      "cell_type": "code",
      "metadata": {
        "id": "miH1IX4Z4hto",
        "outputId": "6bd324ad-fa60-4f2a-f40d-85d4d2987aca",
        "colab": {
          "base_uri": "https://localhost:8080/",
          "height": 34
        }
      },
      "source": [
        "!ls"
      ],
      "execution_count": null,
      "outputs": [
        {
          "output_type": "stream",
          "text": [
            "adc.json  sample_data  submit.csv  test.csv  train.csv\n"
          ],
          "name": "stdout"
        }
      ]
    },
    {
      "cell_type": "code",
      "metadata": {
        "id": "ZCyU_xiI5mig"
      },
      "source": [
        ""
      ],
      "execution_count": null,
      "outputs": []
    }
  ]
}