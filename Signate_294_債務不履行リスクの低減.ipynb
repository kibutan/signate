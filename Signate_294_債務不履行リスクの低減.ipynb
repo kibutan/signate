{
  "nbformat": 4,
  "nbformat_minor": 0,
  "metadata": {
    "colab": {
      "name": "Signate 294 債務不履行リスクの低減.ipynb",
      "provenance": [],
      "collapsed_sections": [],
      "authorship_tag": "ABX9TyMzJ+58AbLyE78MGtJktdcD",
      "include_colab_link": true
    },
    "kernelspec": {
      "name": "python3",
      "display_name": "Python 3"
    }
  },
  "cells": [
    {
      "cell_type": "markdown",
      "metadata": {
        "id": "view-in-github",
        "colab_type": "text"
      },
      "source": [
        "<a href=\"https://colab.research.google.com/github/kibutan/Atcoder/blob/master/Signate_294_%E5%82%B5%E5%8B%99%E4%B8%8D%E5%B1%A5%E8%A1%8C%E3%83%AA%E3%82%B9%E3%82%AF%E3%81%AE%E4%BD%8E%E6%B8%9B.ipynb\" target=\"_parent\"><img src=\"https://colab.research.google.com/assets/colab-badge.svg\" alt=\"Open In Colab\"/></a>"
      ]
    },
    {
      "cell_type": "code",
      "metadata": {
        "id": "Vp-S9Lh8LpVG",
        "outputId": "111e9d14-50d5-4af9-8ff2-8ef80c145ee1",
        "colab": {
          "base_uri": "https://localhost:8080/",
          "height": 153
        }
      },
      "source": [
        "%pip install signate"
      ],
      "execution_count": 18,
      "outputs": [
        {
          "output_type": "stream",
          "text": [
            "Requirement already satisfied: signate in /usr/local/lib/python3.6/dist-packages (0.9.7)\n",
            "Requirement already satisfied: wget in /usr/local/lib/python3.6/dist-packages (from signate) (3.2)\n",
            "Requirement already satisfied: certifi in /usr/local/lib/python3.6/dist-packages (from signate) (2020.6.20)\n",
            "Requirement already satisfied: python-dateutil in /usr/local/lib/python3.6/dist-packages (from signate) (2.8.1)\n",
            "Requirement already satisfied: click in /usr/local/lib/python3.6/dist-packages (from signate) (7.1.2)\n",
            "Requirement already satisfied: urllib3>=1.25.3 in /usr/local/lib/python3.6/dist-packages (from signate) (1.25.11)\n",
            "Requirement already satisfied: tabulate in /usr/local/lib/python3.6/dist-packages (from signate) (0.8.7)\n",
            "Requirement already satisfied: six>=1.10 in /usr/local/lib/python3.6/dist-packages (from signate) (1.15.0)\n"
          ],
          "name": "stdout"
        }
      ]
    },
    {
      "cell_type": "code",
      "metadata": {
        "id": "AlbA3y392-U5",
        "outputId": "39956b88-61f8-4992-bca1-a958ae4c1b1a",
        "colab": {
          "base_uri": "https://localhost:8080/",
          "height": 34
        }
      },
      "source": [
        "#kaggle.jsonをGoogle Drive からひっぱってくるやつ\n",
        "from googleapiclient.discovery import build\n",
        "import io, os\n",
        "from googleapiclient.http import MediaIoBaseDownload\n",
        "from google.colab import auth\n",
        "\n",
        "auth.authenticate_user()\n",
        "\n",
        "drive_service = build('drive', 'v3')\n",
        "results = drive_service.files().list(\n",
        "        q=\"name = 'signate.json'\", fields=\"files(id)\").execute()\n",
        "kaggle_api_key = results.get('files', [])\n",
        "\n",
        "filename = \"/root/.signate/signate.json\"\n",
        "os.makedirs(os.path.dirname(filename), exist_ok=True)\n",
        "\n",
        "request = drive_service.files().get_media(fileId=kaggle_api_key[0]['id'])\n",
        "fh = io.FileIO(filename, 'wb')\n",
        "downloader = MediaIoBaseDownload(fh, request)\n",
        "done = False\n",
        "while done is False:\n",
        "    status, done = downloader.next_chunk()\n",
        "    print(\"Download %d%%.\" % int(status.progress() * 100))\n",
        "os.chmod(filename, 600)"
      ],
      "execution_count": 19,
      "outputs": [
        {
          "output_type": "stream",
          "text": [
            "Download 100%.\n"
          ],
          "name": "stdout"
        }
      ]
    },
    {
      "cell_type": "code",
      "metadata": {
        "id": "Pw8fOxoCLpu4",
        "outputId": "ba5fc6c2-49fe-4571-8b36-fc98247ac4a0",
        "colab": {
          "base_uri": "https://localhost:8080/",
          "height": 680
        }
      },
      "source": [
        "!signate list"
      ],
      "execution_count": 3,
      "outputs": [
        {
          "output_type": "stream",
          "text": [
            "  competitionId  title                                                              closing     prize                             submitters\n",
            "---------------  -----------------------------------------------------------------  ----------  ------------------------------  ------------\n",
            "              1  【練習問題】銀行の顧客ターゲティング                               -                                                   4186\n",
            "             24  【練習問題】お弁当の需要予測                                       -                                                   4966\n",
            "             27  【練習問題】Jリーグの観客動員数予測                                -                                                   1040\n",
            "            100  【練習問題】手書き文字認識                                         -           Knowledge                                103\n",
            "            102  【練習問題】タイタニックの生存予測                                 -           Knowledge                                405\n",
            "            103  【練習問題】音楽ラベリング                                         -           Knowledge                                 27\n",
            "            104  【練習問題】スパムメール分類                                       -           Knowledge                                 86\n",
            "            105  【練習問題】毒キノコの分類                                         -           Knowledge                                179\n",
            "            106  【練習問題】アワビの年齢予測                                       -           Knowledge                                277\n",
            "            107  【練習問題】国勢調査からの収入予測                                 -           Knowledge                                389\n",
            "            108  【練習問題】画像ラベリング（２０種類）                             -           Knowledge                                152\n",
            "            112  【練習問題】ワインの品種の予測                                     -           Knowledge                                243\n",
            "            114  【練習問題】レンタル自転車の利用者数予測                           -           Knowledge                                291\n",
            "            115  【練習問題】アヤメの分類                                           -           Knowledge                                234\n",
            "            121  【練習問題】自動車の走行距離予測                                   -           Knowledge                                684\n",
            "            122  【練習問題】自動車の評価                                           -           Knowledge                                235\n",
            "            124  【練習問題】ボットの判別                                           -           Knowledge                                218\n",
            "            132  【練習問題】ネット広告のクリック予測                               -           Knowledge                                111\n",
            "            133  【練習問題】画像ラベリング（１０種類）                             -                                                    262\n",
            "            135  【練習問題】ネット画像の分類                                       -                                                     64\n",
            "            262  【SOTA】国立国会図書館の画像データレイアウト認識                   2100-12-31  -                                          8\n",
            "            263  【SOTA】産業技術総合研究所 衛星画像分析コンテスト                  2100-12-31  -                                          5\n",
            "            264  【SOTA】マイナビ × SIGNATE Student Cup 2019: 賃貸物件の家賃予測    2100-12-31  -                                        121\n",
            "            265  【練習問題】健診データによる肝疾患判定                             -                                                    182\n",
            "            266  【練習問題】民泊サービスの宿泊価格予測                             -                                                    167\n",
            "            267  【SOTA】海洋研究開発機構 熱帯低気圧（台風等）検出アルゴリズム作成  2100-12-31  -                                          4\n",
            "            268  【SOTA】オプト レコメンドエンジン作成                              2100-12-31                                             4\n",
            "            269  【SOTA】アップル 引越し需要予測                                    2100-12-31  -                                         50\n",
            "            270  【SOTA】Weather Challenge：雲画像予測                              2100-12-31  -                                          2\n",
            "            271  【SOTA】JR西日本 走行中の北陸新幹線車両台車部の着雪量予測          2100-12-31  -                                          1\n",
            "            284  The 4th Tellus Satellite Challenge：海岸線の抽出                   2020-11-06  Total Prize: ¥2,000,000                  105\n",
            "            285  第4回AIエッジコンテスト（実装コンテスト②）                         2020-12-31  TBA                                       25\n",
            "            288  【SOTA】Sansan 名刺の項目予測                                      2100-12-31  -                                          4\n",
            "            294  【練習問題】債務不履行リスクの低減                                 -                                                     28\n",
            "            295  【第3回_Beginner限定コンペ】債務不履行リスクの低減                 2020-10-31                                           187\n",
            "            350  COVID-19チャレンジ（フェーズ3 - ラウンド13）                       2020-11-08  社会貢献・名誉・著作クレジット             0\n",
            "            358  【練習問題】機械稼働音の異常検知                                   -                                                      4\n"
          ],
          "name": "stdout"
        }
      ]
    },
    {
      "cell_type": "markdown",
      "metadata": {
        "id": "rMqjLyDO5ahh"
      },
      "source": [
        ""
      ]
    },
    {
      "cell_type": "code",
      "metadata": {
        "id": "qm-mWX5DMbER",
        "outputId": "c0c5a289-8d04-4054-945f-07e462d95141",
        "colab": {
          "base_uri": "https://localhost:8080/",
          "height": 153
        }
      },
      "source": [
        "#規約同意前ならエラーを返す。yを入力後再実行でダウンロードが可能に。\n",
        "#指定しない限り、カレントディレクトリにデータは降りる。\n",
        "!signate download -c 294"
      ],
      "execution_count": 20,
      "outputs": [
        {
          "output_type": "stream",
          "text": [
            "submit.csv\n",
            "\n",
            "test.csv\n",
            "\n",
            "train.csv\n",
            "\n",
            "\u001b[32m\n",
            "Download completed.\u001b[0m\n"
          ],
          "name": "stdout"
        }
      ]
    },
    {
      "cell_type": "code",
      "metadata": {
        "id": "miH1IX4Z4hto",
        "outputId": "6007ff5f-2d1e-4aa6-ab55-8f633d23733f",
        "colab": {
          "base_uri": "https://localhost:8080/",
          "height": 51
        }
      },
      "source": [
        "!ls"
      ],
      "execution_count": null,
      "outputs": [
        {
          "output_type": "stream",
          "text": [
            " adc.json      submission.csv\t submit.csv\t test.csv\t  train.csv\n",
            " sample_data  'submit (1).csv'\t'test (1).csv'\t'train (1).csv'\n"
          ],
          "name": "stdout"
        }
      ]
    },
    {
      "cell_type": "markdown",
      "metadata": {
        "id": "nxvA9_i38Fm0"
      },
      "source": [
        "https://www.kaggle.com/sishihara/upura-kaggle-tutorial-02-overview\n",
        "を参考にsubmitまでの流れを掴んで見る\n"
      ]
    },
    {
      "cell_type": "markdown",
      "metadata": {
        "id": "BZKfgqOK8SeF"
      },
      "source": [
        "必要なパッケージの読み込み"
      ]
    },
    {
      "cell_type": "code",
      "metadata": {
        "id": "ZCyU_xiI5mig"
      },
      "source": [
        "import numpy as np\n",
        "import pandas as pd\n",
        "import seaborn as sns\n",
        "import matplotlib.pyplot as plt\n",
        "train = pd.read_csv(\"train.csv\")\n",
        "test = pd.read_csv(\"test.csv\")\n",
        "submit = pd.read_csv(\"submit.csv\",header=None)\n"
      ],
      "execution_count": 21,
      "outputs": []
    },
    {
      "cell_type": "code",
      "metadata": {
        "id": "sbZUfd9wtzL-"
      },
      "source": [
        ""
      ],
      "execution_count": null,
      "outputs": []
    },
    {
      "cell_type": "markdown",
      "metadata": {
        "id": "xHLD0DE081vg"
      },
      "source": [
        "データの確認"
      ]
    },
    {
      "cell_type": "code",
      "metadata": {
        "id": "CohGMTy79KEJ",
        "outputId": "9c4a5aae-7601-4f0b-8334-10d1f376fe0d",
        "colab": {
          "base_uri": "https://localhost:8080/",
          "height": 68
        }
      },
      "source": [
        "print(submit.dtypes)"
      ],
      "execution_count": null,
      "outputs": [
        {
          "output_type": "stream",
          "text": [
            "0    int64\n",
            "1    int64\n",
            "dtype: object\n"
          ],
          "name": "stdout"
        }
      ]
    },
    {
      "cell_type": "code",
      "metadata": {
        "id": "4qayNIzK8b1B",
        "outputId": "ba604239-9af8-4fe0-864d-a96f816e604e",
        "colab": {
          "base_uri": "https://localhost:8080/",
          "height": 204
        }
      },
      "source": [
        "train.head()"
      ],
      "execution_count": null,
      "outputs": [
        {
          "output_type": "execute_result",
          "data": {
            "text/html": [
              "<div>\n",
              "<style scoped>\n",
              "    .dataframe tbody tr th:only-of-type {\n",
              "        vertical-align: middle;\n",
              "    }\n",
              "\n",
              "    .dataframe tbody tr th {\n",
              "        vertical-align: top;\n",
              "    }\n",
              "\n",
              "    .dataframe thead th {\n",
              "        text-align: right;\n",
              "    }\n",
              "</style>\n",
              "<table border=\"1\" class=\"dataframe\">\n",
              "  <thead>\n",
              "    <tr style=\"text-align: right;\">\n",
              "      <th></th>\n",
              "      <th>id</th>\n",
              "      <th>loan_amnt</th>\n",
              "      <th>term</th>\n",
              "      <th>interest_rate</th>\n",
              "      <th>grade</th>\n",
              "      <th>employment_length</th>\n",
              "      <th>purpose</th>\n",
              "      <th>credit_score</th>\n",
              "      <th>application_type</th>\n",
              "      <th>loan_status</th>\n",
              "    </tr>\n",
              "  </thead>\n",
              "  <tbody>\n",
              "    <tr>\n",
              "      <th>0</th>\n",
              "      <td>88194295</td>\n",
              "      <td>1800.0</td>\n",
              "      <td>3 years</td>\n",
              "      <td>14.49</td>\n",
              "      <td>C4</td>\n",
              "      <td>NaN</td>\n",
              "      <td>debt_consolidation</td>\n",
              "      <td>665.0</td>\n",
              "      <td>Individual</td>\n",
              "      <td>FullyPaid</td>\n",
              "    </tr>\n",
              "    <tr>\n",
              "      <th>1</th>\n",
              "      <td>5146039</td>\n",
              "      <td>1200.0</td>\n",
              "      <td>5 years</td>\n",
              "      <td>16.29</td>\n",
              "      <td>C4</td>\n",
              "      <td>2 years</td>\n",
              "      <td>debt_consolidation</td>\n",
              "      <td>700.0</td>\n",
              "      <td>Individual</td>\n",
              "      <td>ChargedOff</td>\n",
              "    </tr>\n",
              "    <tr>\n",
              "      <th>2</th>\n",
              "      <td>3095896</td>\n",
              "      <td>2000.0</td>\n",
              "      <td>5 years</td>\n",
              "      <td>21.98</td>\n",
              "      <td>E4</td>\n",
              "      <td>10 years</td>\n",
              "      <td>home_improvement</td>\n",
              "      <td>670.0</td>\n",
              "      <td>Individual</td>\n",
              "      <td>FullyPaid</td>\n",
              "    </tr>\n",
              "    <tr>\n",
              "      <th>3</th>\n",
              "      <td>88625044</td>\n",
              "      <td>1000.0</td>\n",
              "      <td>3 years</td>\n",
              "      <td>8.59</td>\n",
              "      <td>A5</td>\n",
              "      <td>4 years</td>\n",
              "      <td>debt_consolidation</td>\n",
              "      <td>710.0</td>\n",
              "      <td>Individual</td>\n",
              "      <td>FullyPaid</td>\n",
              "    </tr>\n",
              "    <tr>\n",
              "      <th>4</th>\n",
              "      <td>1178189</td>\n",
              "      <td>1500.0</td>\n",
              "      <td>3 years</td>\n",
              "      <td>13.99</td>\n",
              "      <td>C1</td>\n",
              "      <td>4 years</td>\n",
              "      <td>debt_consolidation</td>\n",
              "      <td>680.0</td>\n",
              "      <td>Individual</td>\n",
              "      <td>FullyPaid</td>\n",
              "    </tr>\n",
              "  </tbody>\n",
              "</table>\n",
              "</div>"
            ],
            "text/plain": [
              "         id  loan_amnt     term  ...  credit_score application_type loan_status\n",
              "0  88194295     1800.0  3 years  ...         665.0       Individual   FullyPaid\n",
              "1   5146039     1200.0  5 years  ...         700.0       Individual  ChargedOff\n",
              "2   3095896     2000.0  5 years  ...         670.0       Individual   FullyPaid\n",
              "3  88625044     1000.0  3 years  ...         710.0       Individual   FullyPaid\n",
              "4   1178189     1500.0  3 years  ...         680.0       Individual   FullyPaid\n",
              "\n",
              "[5 rows x 10 columns]"
            ]
          },
          "metadata": {
            "tags": []
          },
          "execution_count": 177
        }
      ]
    },
    {
      "cell_type": "code",
      "metadata": {
        "id": "zdmiKXJP851h",
        "outputId": "6965fec7-19d3-46a2-9081-efc5ef74ec67",
        "colab": {
          "base_uri": "https://localhost:8080/",
          "height": 419
        }
      },
      "source": [
        "test"
      ],
      "execution_count": null,
      "outputs": [
        {
          "output_type": "execute_result",
          "data": {
            "text/html": [
              "<div>\n",
              "<style scoped>\n",
              "    .dataframe tbody tr th:only-of-type {\n",
              "        vertical-align: middle;\n",
              "    }\n",
              "\n",
              "    .dataframe tbody tr th {\n",
              "        vertical-align: top;\n",
              "    }\n",
              "\n",
              "    .dataframe thead th {\n",
              "        text-align: right;\n",
              "    }\n",
              "</style>\n",
              "<table border=\"1\" class=\"dataframe\">\n",
              "  <thead>\n",
              "    <tr style=\"text-align: right;\">\n",
              "      <th></th>\n",
              "      <th>id</th>\n",
              "      <th>loan_amnt</th>\n",
              "      <th>term</th>\n",
              "      <th>interest_rate</th>\n",
              "      <th>grade</th>\n",
              "      <th>employment_length</th>\n",
              "      <th>purpose</th>\n",
              "      <th>credit_score</th>\n",
              "      <th>application_type</th>\n",
              "    </tr>\n",
              "  </thead>\n",
              "  <tbody>\n",
              "    <tr>\n",
              "      <th>0</th>\n",
              "      <td>1496754</td>\n",
              "      <td>1912.5</td>\n",
              "      <td>3 years</td>\n",
              "      <td>10.16</td>\n",
              "      <td>B1</td>\n",
              "      <td>5 years</td>\n",
              "      <td>debt_consolidation</td>\n",
              "      <td>725.0</td>\n",
              "      <td>Individual</td>\n",
              "    </tr>\n",
              "    <tr>\n",
              "      <th>1</th>\n",
              "      <td>84909594</td>\n",
              "      <td>1800.0</td>\n",
              "      <td>3 years</td>\n",
              "      <td>8.99</td>\n",
              "      <td>B1</td>\n",
              "      <td>9 years</td>\n",
              "      <td>credit_card</td>\n",
              "      <td>695.0</td>\n",
              "      <td>Individual</td>\n",
              "    </tr>\n",
              "    <tr>\n",
              "      <th>2</th>\n",
              "      <td>1165403</td>\n",
              "      <td>550.0</td>\n",
              "      <td>3 years</td>\n",
              "      <td>14.65</td>\n",
              "      <td>C2</td>\n",
              "      <td>10 years</td>\n",
              "      <td>credit_card</td>\n",
              "      <td>660.0</td>\n",
              "      <td>Individual</td>\n",
              "    </tr>\n",
              "    <tr>\n",
              "      <th>3</th>\n",
              "      <td>91354446</td>\n",
              "      <td>2000.0</td>\n",
              "      <td>5 years</td>\n",
              "      <td>15.59</td>\n",
              "      <td>C5</td>\n",
              "      <td>10 years</td>\n",
              "      <td>credit_card</td>\n",
              "      <td>695.0</td>\n",
              "      <td>Individual</td>\n",
              "    </tr>\n",
              "    <tr>\n",
              "      <th>4</th>\n",
              "      <td>85636932</td>\n",
              "      <td>1500.0</td>\n",
              "      <td>5 years</td>\n",
              "      <td>12.79</td>\n",
              "      <td>C1</td>\n",
              "      <td>0 years</td>\n",
              "      <td>medical</td>\n",
              "      <td>720.0</td>\n",
              "      <td>Individual</td>\n",
              "    </tr>\n",
              "    <tr>\n",
              "      <th>...</th>\n",
              "      <td>...</td>\n",
              "      <td>...</td>\n",
              "      <td>...</td>\n",
              "      <td>...</td>\n",
              "      <td>...</td>\n",
              "      <td>...</td>\n",
              "      <td>...</td>\n",
              "      <td>...</td>\n",
              "      <td>...</td>\n",
              "    </tr>\n",
              "    <tr>\n",
              "      <th>26901</th>\n",
              "      <td>5064630</td>\n",
              "      <td>800.0</td>\n",
              "      <td>3 years</td>\n",
              "      <td>7.90</td>\n",
              "      <td>A4</td>\n",
              "      <td>5 years</td>\n",
              "      <td>debt_consolidation</td>\n",
              "      <td>735.0</td>\n",
              "      <td>Individual</td>\n",
              "    </tr>\n",
              "    <tr>\n",
              "      <th>26902</th>\n",
              "      <td>94416733</td>\n",
              "      <td>750.0</td>\n",
              "      <td>3 years</td>\n",
              "      <td>7.49</td>\n",
              "      <td>A4</td>\n",
              "      <td>8 years</td>\n",
              "      <td>debt_consolidation</td>\n",
              "      <td>715.0</td>\n",
              "      <td>Individual</td>\n",
              "    </tr>\n",
              "    <tr>\n",
              "      <th>26903</th>\n",
              "      <td>120604638</td>\n",
              "      <td>840.0</td>\n",
              "      <td>3 years</td>\n",
              "      <td>15.05</td>\n",
              "      <td>C4</td>\n",
              "      <td>7 years</td>\n",
              "      <td>car</td>\n",
              "      <td>695.0</td>\n",
              "      <td>Individual</td>\n",
              "    </tr>\n",
              "    <tr>\n",
              "      <th>26904</th>\n",
              "      <td>1110314</td>\n",
              "      <td>1000.0</td>\n",
              "      <td>3 years</td>\n",
              "      <td>14.27</td>\n",
              "      <td>C2</td>\n",
              "      <td>0 years</td>\n",
              "      <td>debt_consolidation</td>\n",
              "      <td>680.0</td>\n",
              "      <td>Individual</td>\n",
              "    </tr>\n",
              "    <tr>\n",
              "      <th>26905</th>\n",
              "      <td>5425387</td>\n",
              "      <td>3500.0</td>\n",
              "      <td>3 years</td>\n",
              "      <td>21.49</td>\n",
              "      <td>E3</td>\n",
              "      <td>8 years</td>\n",
              "      <td>small_business</td>\n",
              "      <td>690.0</td>\n",
              "      <td>Individual</td>\n",
              "    </tr>\n",
              "  </tbody>\n",
              "</table>\n",
              "<p>26906 rows × 9 columns</p>\n",
              "</div>"
            ],
            "text/plain": [
              "              id  loan_amnt  ... credit_score  application_type\n",
              "0        1496754     1912.5  ...        725.0        Individual\n",
              "1       84909594     1800.0  ...        695.0        Individual\n",
              "2        1165403      550.0  ...        660.0        Individual\n",
              "3       91354446     2000.0  ...        695.0        Individual\n",
              "4       85636932     1500.0  ...        720.0        Individual\n",
              "...          ...        ...  ...          ...               ...\n",
              "26901    5064630      800.0  ...        735.0        Individual\n",
              "26902   94416733      750.0  ...        715.0        Individual\n",
              "26903  120604638      840.0  ...        695.0        Individual\n",
              "26904    1110314     1000.0  ...        680.0        Individual\n",
              "26905    5425387     3500.0  ...        690.0        Individual\n",
              "\n",
              "[26906 rows x 9 columns]"
            ]
          },
          "metadata": {
            "tags": []
          },
          "execution_count": 178
        }
      ]
    },
    {
      "cell_type": "markdown",
      "metadata": {
        "id": "yE9V3x73t262"
      },
      "source": [
        "Quest とCompで中身が違う可能性があるので中身を精査したい"
      ]
    },
    {
      "cell_type": "code",
      "metadata": {
        "id": "LeM57WCutm25",
        "outputId": "6b3c965c-9c82-4f86-9039-25b3804cbac0",
        "colab": {
          "base_uri": "https://localhost:8080/",
          "height": 297
        }
      },
      "source": [
        "#Loan amount\n",
        "loans = train[(train['loan_status'] == 'FullyPaid') | (train['loan_status'] == 'ChargedOff')]\n",
        "loans = loans.drop(columns=['id'])\n",
        "loans = loans.dropna()\n",
        "\n",
        "# 箱ひげ図を作成\n",
        "sns.boxplot(x = \"loan_status\",y = \"loan_amnt\", data = loans)\n",
        "#図次するとあまり関係はなさそう"
      ],
      "execution_count": 7,
      "outputs": [
        {
          "output_type": "execute_result",
          "data": {
            "text/plain": [
              "<matplotlib.axes._subplots.AxesSubplot at 0x7fd2e78ee668>"
            ]
          },
          "metadata": {
            "tags": []
          },
          "execution_count": 7
        },
        {
          "output_type": "display_data",
          "data": {
            "image/png": "[encoded data removed]",
            "text/plain": [
              "<Figure size 432x288 with 1 Axes>"
            ]
          },
          "metadata": {
            "tags": [],
            "needs_background": "light"
          }
        }
      ]
    },
    {
      "cell_type": "code",
      "metadata": {
        "id": "8aO0xkSmxG1c",
        "outputId": "452c8207-ab43-4b71-eb90-be3db6c41e6d",
        "colab": {
          "base_uri": "https://localhost:8080/",
          "height": 297
        }
      },
      "source": [
        "#credit_score\n",
        "sns.boxplot(x = \"loan_status\",y = \"interest_rate\",data = loans)\n",
        "# 金利が高いとC\\rateも高い"
      ],
      "execution_count": null,
      "outputs": [
        {
          "output_type": "execute_result",
          "data": {
            "text/plain": [
              "<matplotlib.axes._subplots.AxesSubplot at 0x7f3a4463e470>"
            ]
          },
          "metadata": {
            "tags": []
          },
          "execution_count": 180
        },
        {
          "output_type": "display_data",
          "data": {
            "image/png": "[encoded data removed]",
            "text/plain": [
              "<Figure size 432x288 with 1 Axes>"
            ]
          },
          "metadata": {
            "tags": [],
            "needs_background": "light"
          }
        }
      ]
    },
    {
      "cell_type": "code",
      "metadata": {
        "id": "Tlo-VDXYukW8",
        "outputId": "988c78ee-68d7-4a80-8919-cd17ca2aed5e",
        "colab": {
          "base_uri": "https://localhost:8080/",
          "height": 297
        }
      },
      "source": [
        "#credit_score\n",
        "sns.boxplot(x = \"loan_status\",y = \"credit_score\",data = loans)"
      ],
      "execution_count": null,
      "outputs": [
        {
          "output_type": "execute_result",
          "data": {
            "text/plain": [
              "<matplotlib.axes._subplots.AxesSubplot at 0x7f3a44615eb8>"
            ]
          },
          "metadata": {
            "tags": []
          },
          "execution_count": 181
        },
        {
          "output_type": "display_data",
          "data": {
            "image/png": "[encoded data removed]",
            "text/plain": [
              "<Figure size 432x288 with 1 Axes>"
            ]
          },
          "metadata": {
            "tags": [],
            "needs_background": "light"
          }
        }
      ]
    },
    {
      "cell_type": "code",
      "metadata": {
        "id": "5793gHicu-ME",
        "outputId": "31779918-862f-4605-8261-ad993f459f3c",
        "colab": {
          "base_uri": "https://localhost:8080/",
          "height": 374
        }
      },
      "source": [
        "# term\n",
        "cross_term = pd.crosstab(loans[\"term\"],loans[\"loan_status\"],margins = True)\n",
        "# ChargedOffカラムをAllカラムで割り、変数c_rateに代入\n",
        "c_rate = cross_term[\"ChargedOff\"]/cross_term[\"All\"]\n",
        "\n",
        "# FullyPaidカラムをAllカラムで割り、変数f_rateに代入\n",
        "f_rate = cross_term[\"FullyPaid\"]/cross_term[\"All\"]\n",
        "\n",
        "\n",
        "# 変数c_rate及び変数f_rateを変数cross_termに新たなカラムc_rate、f_rateとしてそれぞれ代入\n",
        "cross_term['c_rate'] = c_rate\n",
        "cross_term['f_rate'] = f_rate\n",
        "# クロス集計表の表示\n",
        "cross_term = cross_term.drop(index = ['All'])\n",
        "print(cross_term)\n",
        "# 積み上げ棒グラフに使用したいカラムだけのDataFrameを作成\n",
        "df_bar = cross_term[[\"c_rate\",\"f_rate\"]]\n",
        "# 積み上げ棒グラフを作成\n",
        "df_bar.plot.bar(stacked=True)\n",
        "# グラフタイトルの設定\n",
        "#plt.title(\"返済期間ごとの貸し倒れ率と完済率\")\n",
        "# x軸ラベルの設定\n",
        "#plt.xlabel(\"期間\")\n",
        "# y軸ラベルの設定\n",
        "#plt.ylabel(\"割合\")\n",
        "# グラフの表示\n",
        "plt.show()\n",
        "\n",
        "#5年借りる方がc_rate高い"
      ],
      "execution_count": 8,
      "outputs": [
        {
          "output_type": "stream",
          "text": [
            "loan_status  ChargedOff  FullyPaid     All    c_rate    f_rate\n",
            "term                                                          \n",
            "3 years           29339     148241  177580  0.165216  0.834784\n",
            "5 years           15206      36185   51391  0.295888  0.704112\n"
          ],
          "name": "stdout"
        },
        {
          "output_type": "display_data",
          "data": {
            "image/png": "[encoded data removed]",
            "text/plain": [
              "<Figure size 432x288 with 1 Axes>"
            ]
          },
          "metadata": {
            "tags": [],
            "needs_background": "light"
          }
        }
      ]
    },
    {
      "cell_type": "code",
      "metadata": {
        "id": "ngjY9a3EwGLS",
        "outputId": "72cb3d5f-7390-416c-e6c9-e75dfb3842a0",
        "colab": {
          "base_uri": "https://localhost:8080/",
          "height": 912
        }
      },
      "source": [
        "# interest_rate\n",
        "cross_term = pd.crosstab(loans[\"grade\"],loans[\"loan_status\"],margins = True)\n",
        "# ChargedOffカラムをAllカラムで割り、変数c_rateに代入\n",
        "c_rate = cross_term[\"ChargedOff\"]/cross_term[\"All\"]\n",
        "\n",
        "# FullyPaidカラムをAllカラムで割り、変数f_rateに代入\n",
        "f_rate = cross_term[\"FullyPaid\"]/cross_term[\"All\"]\n",
        "\n",
        "\n",
        "# 変数c_rate及び変数f_rateを変数cross_termに新たなカラムc_rate、f_rateとしてそれぞれ代入\n",
        "cross_term['c_rate'] = c_rate\n",
        "cross_term['f_rate'] = f_rate\n",
        "# クロス集計表の表示\n",
        "cross_term = cross_term.drop(index = ['All'])\n",
        "print(cross_term)\n",
        "# 積み上げ棒グラフに使用したいカラムだけのDataFrameを作成\n",
        "df_bar = cross_term[[\"c_rate\",\"f_rate\"]]\n",
        "# 積み上げ棒グラフを作成\n",
        "df_bar.plot.bar(stacked=True)\n",
        "# グラフタイトルの設定\n",
        "#plt.title(\"返済期間ごとの貸し倒れ率と完済率\")\n",
        "# x軸ラベルの設定\n",
        "#plt.xlabel(\"期間\")\n",
        "# y軸ラベルの設定\n",
        "#plt.ylabel(\"割合\")\n",
        "# グラフの表示\n",
        "plt.show()\n",
        "\n",
        "# Gradeが低いとC_rateが高い\n"
      ],
      "execution_count": null,
      "outputs": [
        {
          "output_type": "stream",
          "text": [
            "loan_status  ChargedOff  FullyPaid    All    c_rate    f_rate\n",
            "grade                                                        \n",
            "A1                  194       5316   5510  0.035209  0.964791\n",
            "A2                  244       5128   5372  0.045421  0.954579\n",
            "A3                  337       5486   5823  0.057874  0.942126\n",
            "A4                  539       6916   7455  0.072300  0.927700\n",
            "A5                  744       8054   8798  0.084565  0.915435\n",
            "B1                 1320      11180  12500  0.105600  0.894400\n",
            "B2                 1483      12244  13727  0.108035  0.891965\n",
            "B3                 1966      14094  16060  0.122416  0.877584\n",
            "B4                 2319      13709  16028  0.144684  0.855316\n",
            "B5                 2677      12327  15004  0.178419  0.821581\n",
            "C1                 3009      12655  15664  0.192097  0.807903\n",
            "C2                 2725      10887  13612  0.200191  0.799809\n",
            "C3                 2710       9679  12389  0.218742  0.781258\n",
            "C4                 3088       9893  12981  0.237886  0.762114\n",
            "C5                 2984       8957  11941  0.249895  0.750105\n",
            "D1                 2261       6284   8545  0.264599  0.735401\n",
            "D2                 2384       6019   8403  0.283708  0.716292\n",
            "D3                 1961       4741   6702  0.292599  0.707401\n",
            "D4                 1904       4356   6260  0.304153  0.695847\n",
            "D5                 1650       3668   5318  0.310267  0.689733\n",
            "E1                 1157       2177   3334  0.347031  0.652969\n",
            "E2                  964       1920   2884  0.334258  0.665742\n",
            "E3                 1029       1836   2865  0.359162  0.640838\n",
            "E4                  935       1634   2569  0.363955  0.636045\n",
            "E5                  871       1315   2186  0.398445  0.601555\n",
            "F1                  669       1007   1676  0.399165  0.600835\n",
            "F2                  558        759   1317  0.423690  0.576310\n",
            "F3                  472        628   1100  0.429091  0.570909\n",
            "F4                  371        433    804  0.461443  0.538557\n",
            "F5                  327        434    761  0.429698  0.570302\n",
            "G1                  280        286    566  0.494700  0.505300\n",
            "G2                  155        153    308  0.503247  0.496753\n",
            "G3                  105        112    217  0.483871  0.516129\n",
            "G4                   96         86    182  0.527473  0.472527\n",
            "G5                   57         53    110  0.518182  0.481818\n"
          ],
          "name": "stdout"
        },
        {
          "output_type": "display_data",
          "data": {
            "image/png": "[encoded data removed]",
            "text/plain": [
              "<Figure size 432x288 with 1 Axes>"
            ]
          },
          "metadata": {
            "tags": [],
            "needs_background": "light"
          }
        }
      ]
    },
    {
      "cell_type": "code",
      "metadata": {
        "id": "9-KDsXecvdld"
      },
      "source": [
        ""
      ],
      "execution_count": null,
      "outputs": []
    },
    {
      "cell_type": "markdown",
      "metadata": {
        "id": "ddJquci_9pdV"
      },
      "source": [
        "特徴量エンジニアリング\n",
        "NaNや文字列などの値を数値に置き換えるなど行っていく。不要なデータを検討し、Dropする。"
      ]
    },
    {
      "cell_type": "code",
      "metadata": {
        "id": "9NWSTa6m9DY5"
      },
      "source": [
        "#関数同士の相関を調べる\n",
        "#df = pd.DataFrame(train)\n",
        "#df_corr = df.corr()\n",
        "#print(df_corr)"
      ],
      "execution_count": null,
      "outputs": []
    },
    {
      "cell_type": "code",
      "metadata": {
        "id": "A2FIixBjuDWP"
      },
      "source": [
        "train[\"loan_status\"] = train[\"loan_status\"].map({\"FullyPaid\":0,\"ChargedOff\":1}).astype(int)"
      ],
      "execution_count": 22,
      "outputs": []
    },
    {
      "cell_type": "code",
      "metadata": {
        "id": "oDUkc05cAlXQ"
      },
      "source": [
        "data = pd.concat([train, test],sort = False)"
      ],
      "execution_count": 23,
      "outputs": []
    },
    {
      "cell_type": "code",
      "metadata": {
        "id": "juW_egfRA2eD",
        "outputId": "88ca0ccd-7dda-4671-bdfa-d83409d10bc3",
        "colab": {
          "base_uri": "https://localhost:8080/",
          "height": 51
        }
      },
      "source": [
        "print(len(train), len(test), len(data))\n",
        "if(len(train)+len(test) ==  len(data)):print(\"Yes\")"
      ],
      "execution_count": 24,
      "outputs": [
        {
          "output_type": "stream",
          "text": [
            "242156 26906 269062\n",
            "Yes\n"
          ],
          "name": "stdout"
        }
      ]
    },
    {
      "cell_type": "code",
      "metadata": {
        "id": "UKdz1FwpDrbV",
        "outputId": "d10939c0-ee4c-4a9a-dab3-dd1b8f19043d",
        "colab": {
          "base_uri": "https://localhost:8080/",
          "height": 204
        }
      },
      "source": [
        "data.isnull().sum()"
      ],
      "execution_count": null,
      "outputs": [
        {
          "output_type": "execute_result",
          "data": {
            "text/plain": [
              "id                       0\n",
              "loan_amnt                0\n",
              "term                     0\n",
              "interest_rate            0\n",
              "grade                    0\n",
              "employment_length    14625\n",
              "purpose                  0\n",
              "credit_score             0\n",
              "application_type         0\n",
              "loan_status          26906\n",
              "dtype: int64"
            ]
          },
          "metadata": {
            "tags": []
          },
          "execution_count": 217
        }
      ]
    },
    {
      "cell_type": "markdown",
      "metadata": {
        "id": "IpsH3LqsD4n7"
      },
      "source": [
        "credit_card\n",
        "debt_consolidation\n",
        "home_improvement\n",
        "house\n",
        "major_purchase\n",
        "medical\n",
        "moving\n",
        "other\n",
        "renewable_energy\n",
        "small_business\n",
        "vacation\n",
        "wedding\n",
        "どの変数がローンの返済に係るか分からないのでわちゃわちゃする\n",
        "* term\n",
        "  * 3 years...16%\n",
        "  * 5 years...30%\n",
        "* interest_rate\n",
        "  * mid...15%(C)\n",
        "  * mid...13%(F)\n",
        "* grade\n",
        "  * A1...3%\n",
        "  * G2...54% \n",
        "* purpose\n",
        "  * wedding...12%\n",
        "  * small_business...32%\n",
        "* credit_score\n",
        "\n",
        "* application_type\n",
        "  * Individual...19%\n",
        "  * Joint App...25%\n",
        "         \n",
        "\n"
      ]
    },
    {
      "cell_type": "code",
      "metadata": {
        "id": "C2r3eV94Hmaw"
      },
      "source": [
        "delete_columns = [\"id\",\"loan_amnt\",\"employment_length\"]\n",
        "#delete_columns = [\"id\",\"loan_amnt\",\"employment_length\",\"term\",\"grade\",\"purpose\",\"application_type\"]\n",
        "data.drop(delete_columns, axis = 1, inplace =True)"
      ],
      "execution_count": 25,
      "outputs": []
    },
    {
      "cell_type": "markdown",
      "metadata": {
        "id": "cIy98peOnZQq"
      },
      "source": [
        "# 各変数について数値化、量的データの変換などを行う\n",
        "term, grade, purpose, application_typeは何かしらの変更が必要。TermやApplicationは0,1でいい。PurposeやGradeはしきい値を定めて0,1にするといいのか？\n",
        "\n",
        "\n",
        "\n",
        "interest_rate, credit_scoreは無加工にて学習に突っ込める\n",
        "\n",
        "C_rateｍになりやすそうな方を1、そうでない方を0としてみる。"
      ]
    },
    {
      "cell_type": "code",
      "metadata": {
        "id": "u8NLMYZEyFJS"
      },
      "source": [
        "data['term'] = data['term'].map( {'3 years': 0, '5 years': 1,} ).astype(int)\n",
        "data['application_type'] = data['application_type'].map( {'Individual': 0, 'Joint App': 1,} ).astype(int)\n",
        "#かんたんな方"
      ],
      "execution_count": 26,
      "outputs": []
    },
    {
      "cell_type": "code",
      "metadata": {
        "id": "aDQ4WfYG1bSE"
      },
      "source": [
        "data['purpose'] = data['purpose'].map( {'car':0,\"credit_card\":0,\"debt_consolidation\":1,\"home_improvement\":0,\"house\":1,\"major_purchase\":0,\"medical\":1,\"moving\":1,\"other\":1,\"renewable_energy\":1,\"small_business\":1,\"vacation\":0,\"wedding\": 0} ).astype(int)\n",
        "#なんとなく、もくてき別貸し倒れ率が20％を超えているものを1、そうでないものを0とした。\n",
        "\n",
        "data['grade'] = data['grade'].map( {'A1': 0, 'A2': 0,'A3': 0, 'A4': 0,'A5': 0, 'B1': 0,'B2': 0, 'B3': 0,'B4': 0, 'B5': 0,\n",
        "                                    'C1': 1, 'C2': 1,'C3': 1, 'C4': 1,'C5': 1, 'D1': 1,'D2': 1, 'D3': 1,'D4': 1, 'D5': 1,\n",
        "                                    'E1': 1, 'E2': 1,'E3': 1, 'E4': 1,'E5': 1, 'F1': 1,'F2': 1, 'F3': 1,'F4': 1, 'F5': 1,\n",
        "                                    'G1': 1, 'G2': 1,'G3': 1, 'G4': 1,'G5': 1} ).astype(int)\n",
        "#なんとなく、C2が20%の貸し倒れ率なので、Cランク以下は全部1とする。\n",
        "\n",
        "#めんどくさい方"
      ],
      "execution_count": 27,
      "outputs": []
    },
    {
      "cell_type": "code",
      "metadata": {
        "id": "N5uX3k49tkRw",
        "outputId": "d52aa1a1-1cd6-4d75-8d74-8b90ce91d6e6",
        "colab": {
          "base_uri": "https://localhost:8080/",
          "height": 241
        }
      },
      "source": [
        "\n",
        "# data_dam = pd.get_dummies(data)\n",
        "# data_dam.head()"
      ],
      "execution_count": null,
      "outputs": [
        {
          "output_type": "execute_result",
          "data": {
            "text/html": [
              "<div>\n",
              "<style scoped>\n",
              "    .dataframe tbody tr th:only-of-type {\n",
              "        vertical-align: middle;\n",
              "    }\n",
              "\n",
              "    .dataframe tbody tr th {\n",
              "        vertical-align: top;\n",
              "    }\n",
              "\n",
              "    .dataframe thead th {\n",
              "        text-align: right;\n",
              "    }\n",
              "</style>\n",
              "<table border=\"1\" class=\"dataframe\">\n",
              "  <thead>\n",
              "    <tr style=\"text-align: right;\">\n",
              "      <th></th>\n",
              "      <th>term_3 years</th>\n",
              "      <th>term_5 years</th>\n",
              "      <th>grade_A1</th>\n",
              "      <th>grade_A2</th>\n",
              "      <th>grade_A3</th>\n",
              "      <th>grade_A4</th>\n",
              "      <th>grade_A5</th>\n",
              "      <th>grade_B1</th>\n",
              "      <th>grade_B2</th>\n",
              "      <th>grade_B3</th>\n",
              "      <th>grade_B4</th>\n",
              "      <th>grade_B5</th>\n",
              "      <th>grade_C1</th>\n",
              "      <th>grade_C2</th>\n",
              "      <th>grade_C3</th>\n",
              "      <th>grade_C4</th>\n",
              "      <th>grade_C5</th>\n",
              "      <th>grade_D1</th>\n",
              "      <th>grade_D2</th>\n",
              "      <th>grade_D3</th>\n",
              "      <th>grade_D4</th>\n",
              "      <th>grade_D5</th>\n",
              "      <th>grade_E1</th>\n",
              "      <th>grade_E2</th>\n",
              "      <th>grade_E3</th>\n",
              "      <th>grade_E4</th>\n",
              "      <th>grade_E5</th>\n",
              "      <th>grade_F1</th>\n",
              "      <th>grade_F2</th>\n",
              "      <th>grade_F3</th>\n",
              "      <th>grade_F4</th>\n",
              "      <th>grade_F5</th>\n",
              "      <th>grade_G1</th>\n",
              "      <th>grade_G2</th>\n",
              "      <th>grade_G3</th>\n",
              "      <th>grade_G4</th>\n",
              "      <th>grade_G5</th>\n",
              "      <th>purpose_car</th>\n",
              "      <th>purpose_credit_card</th>\n",
              "      <th>purpose_debt_consolidation</th>\n",
              "      <th>purpose_home_improvement</th>\n",
              "      <th>purpose_house</th>\n",
              "      <th>purpose_major_purchase</th>\n",
              "      <th>purpose_medical</th>\n",
              "      <th>purpose_moving</th>\n",
              "      <th>purpose_other</th>\n",
              "      <th>purpose_renewable_energy</th>\n",
              "      <th>purpose_small_business</th>\n",
              "      <th>purpose_vacation</th>\n",
              "      <th>purpose_wedding</th>\n",
              "      <th>application_type_Individual</th>\n",
              "      <th>application_type_Joint App</th>\n",
              "      <th>loan_status_ChargedOff</th>\n",
              "      <th>loan_status_FullyPaid</th>\n",
              "    </tr>\n",
              "  </thead>\n",
              "  <tbody>\n",
              "    <tr>\n",
              "      <th>0</th>\n",
              "      <td>1</td>\n",
              "      <td>0</td>\n",
              "      <td>0</td>\n",
              "      <td>0</td>\n",
              "      <td>0</td>\n",
              "      <td>0</td>\n",
              "      <td>0</td>\n",
              "      <td>0</td>\n",
              "      <td>0</td>\n",
              "      <td>0</td>\n",
              "      <td>0</td>\n",
              "      <td>0</td>\n",
              "      <td>0</td>\n",
              "      <td>0</td>\n",
              "      <td>0</td>\n",
              "      <td>1</td>\n",
              "      <td>0</td>\n",
              "      <td>0</td>\n",
              "      <td>0</td>\n",
              "      <td>0</td>\n",
              "      <td>0</td>\n",
              "      <td>0</td>\n",
              "      <td>0</td>\n",
              "      <td>0</td>\n",
              "      <td>0</td>\n",
              "      <td>0</td>\n",
              "      <td>0</td>\n",
              "      <td>0</td>\n",
              "      <td>0</td>\n",
              "      <td>0</td>\n",
              "      <td>0</td>\n",
              "      <td>0</td>\n",
              "      <td>0</td>\n",
              "      <td>0</td>\n",
              "      <td>0</td>\n",
              "      <td>0</td>\n",
              "      <td>0</td>\n",
              "      <td>0</td>\n",
              "      <td>0</td>\n",
              "      <td>1</td>\n",
              "      <td>0</td>\n",
              "      <td>0</td>\n",
              "      <td>0</td>\n",
              "      <td>0</td>\n",
              "      <td>0</td>\n",
              "      <td>0</td>\n",
              "      <td>0</td>\n",
              "      <td>0</td>\n",
              "      <td>0</td>\n",
              "      <td>0</td>\n",
              "      <td>1</td>\n",
              "      <td>0</td>\n",
              "      <td>0</td>\n",
              "      <td>1</td>\n",
              "    </tr>\n",
              "    <tr>\n",
              "      <th>1</th>\n",
              "      <td>0</td>\n",
              "      <td>1</td>\n",
              "      <td>0</td>\n",
              "      <td>0</td>\n",
              "      <td>0</td>\n",
              "      <td>0</td>\n",
              "      <td>0</td>\n",
              "      <td>0</td>\n",
              "      <td>0</td>\n",
              "      <td>0</td>\n",
              "      <td>0</td>\n",
              "      <td>0</td>\n",
              "      <td>0</td>\n",
              "      <td>0</td>\n",
              "      <td>0</td>\n",
              "      <td>1</td>\n",
              "      <td>0</td>\n",
              "      <td>0</td>\n",
              "      <td>0</td>\n",
              "      <td>0</td>\n",
              "      <td>0</td>\n",
              "      <td>0</td>\n",
              "      <td>0</td>\n",
              "      <td>0</td>\n",
              "      <td>0</td>\n",
              "      <td>0</td>\n",
              "      <td>0</td>\n",
              "      <td>0</td>\n",
              "      <td>0</td>\n",
              "      <td>0</td>\n",
              "      <td>0</td>\n",
              "      <td>0</td>\n",
              "      <td>0</td>\n",
              "      <td>0</td>\n",
              "      <td>0</td>\n",
              "      <td>0</td>\n",
              "      <td>0</td>\n",
              "      <td>0</td>\n",
              "      <td>0</td>\n",
              "      <td>1</td>\n",
              "      <td>0</td>\n",
              "      <td>0</td>\n",
              "      <td>0</td>\n",
              "      <td>0</td>\n",
              "      <td>0</td>\n",
              "      <td>0</td>\n",
              "      <td>0</td>\n",
              "      <td>0</td>\n",
              "      <td>0</td>\n",
              "      <td>0</td>\n",
              "      <td>1</td>\n",
              "      <td>0</td>\n",
              "      <td>1</td>\n",
              "      <td>0</td>\n",
              "    </tr>\n",
              "    <tr>\n",
              "      <th>2</th>\n",
              "      <td>0</td>\n",
              "      <td>1</td>\n",
              "      <td>0</td>\n",
              "      <td>0</td>\n",
              "      <td>0</td>\n",
              "      <td>0</td>\n",
              "      <td>0</td>\n",
              "      <td>0</td>\n",
              "      <td>0</td>\n",
              "      <td>0</td>\n",
              "      <td>0</td>\n",
              "      <td>0</td>\n",
              "      <td>0</td>\n",
              "      <td>0</td>\n",
              "      <td>0</td>\n",
              "      <td>0</td>\n",
              "      <td>0</td>\n",
              "      <td>0</td>\n",
              "      <td>0</td>\n",
              "      <td>0</td>\n",
              "      <td>0</td>\n",
              "      <td>0</td>\n",
              "      <td>0</td>\n",
              "      <td>0</td>\n",
              "      <td>0</td>\n",
              "      <td>1</td>\n",
              "      <td>0</td>\n",
              "      <td>0</td>\n",
              "      <td>0</td>\n",
              "      <td>0</td>\n",
              "      <td>0</td>\n",
              "      <td>0</td>\n",
              "      <td>0</td>\n",
              "      <td>0</td>\n",
              "      <td>0</td>\n",
              "      <td>0</td>\n",
              "      <td>0</td>\n",
              "      <td>0</td>\n",
              "      <td>0</td>\n",
              "      <td>0</td>\n",
              "      <td>1</td>\n",
              "      <td>0</td>\n",
              "      <td>0</td>\n",
              "      <td>0</td>\n",
              "      <td>0</td>\n",
              "      <td>0</td>\n",
              "      <td>0</td>\n",
              "      <td>0</td>\n",
              "      <td>0</td>\n",
              "      <td>0</td>\n",
              "      <td>1</td>\n",
              "      <td>0</td>\n",
              "      <td>0</td>\n",
              "      <td>1</td>\n",
              "    </tr>\n",
              "    <tr>\n",
              "      <th>3</th>\n",
              "      <td>1</td>\n",
              "      <td>0</td>\n",
              "      <td>0</td>\n",
              "      <td>0</td>\n",
              "      <td>0</td>\n",
              "      <td>0</td>\n",
              "      <td>1</td>\n",
              "      <td>0</td>\n",
              "      <td>0</td>\n",
              "      <td>0</td>\n",
              "      <td>0</td>\n",
              "      <td>0</td>\n",
              "      <td>0</td>\n",
              "      <td>0</td>\n",
              "      <td>0</td>\n",
              "      <td>0</td>\n",
              "      <td>0</td>\n",
              "      <td>0</td>\n",
              "      <td>0</td>\n",
              "      <td>0</td>\n",
              "      <td>0</td>\n",
              "      <td>0</td>\n",
              "      <td>0</td>\n",
              "      <td>0</td>\n",
              "      <td>0</td>\n",
              "      <td>0</td>\n",
              "      <td>0</td>\n",
              "      <td>0</td>\n",
              "      <td>0</td>\n",
              "      <td>0</td>\n",
              "      <td>0</td>\n",
              "      <td>0</td>\n",
              "      <td>0</td>\n",
              "      <td>0</td>\n",
              "      <td>0</td>\n",
              "      <td>0</td>\n",
              "      <td>0</td>\n",
              "      <td>0</td>\n",
              "      <td>0</td>\n",
              "      <td>1</td>\n",
              "      <td>0</td>\n",
              "      <td>0</td>\n",
              "      <td>0</td>\n",
              "      <td>0</td>\n",
              "      <td>0</td>\n",
              "      <td>0</td>\n",
              "      <td>0</td>\n",
              "      <td>0</td>\n",
              "      <td>0</td>\n",
              "      <td>0</td>\n",
              "      <td>1</td>\n",
              "      <td>0</td>\n",
              "      <td>0</td>\n",
              "      <td>1</td>\n",
              "    </tr>\n",
              "    <tr>\n",
              "      <th>4</th>\n",
              "      <td>1</td>\n",
              "      <td>0</td>\n",
              "      <td>0</td>\n",
              "      <td>0</td>\n",
              "      <td>0</td>\n",
              "      <td>0</td>\n",
              "      <td>0</td>\n",
              "      <td>0</td>\n",
              "      <td>0</td>\n",
              "      <td>0</td>\n",
              "      <td>0</td>\n",
              "      <td>0</td>\n",
              "      <td>1</td>\n",
              "      <td>0</td>\n",
              "      <td>0</td>\n",
              "      <td>0</td>\n",
              "      <td>0</td>\n",
              "      <td>0</td>\n",
              "      <td>0</td>\n",
              "      <td>0</td>\n",
              "      <td>0</td>\n",
              "      <td>0</td>\n",
              "      <td>0</td>\n",
              "      <td>0</td>\n",
              "      <td>0</td>\n",
              "      <td>0</td>\n",
              "      <td>0</td>\n",
              "      <td>0</td>\n",
              "      <td>0</td>\n",
              "      <td>0</td>\n",
              "      <td>0</td>\n",
              "      <td>0</td>\n",
              "      <td>0</td>\n",
              "      <td>0</td>\n",
              "      <td>0</td>\n",
              "      <td>0</td>\n",
              "      <td>0</td>\n",
              "      <td>0</td>\n",
              "      <td>0</td>\n",
              "      <td>1</td>\n",
              "      <td>0</td>\n",
              "      <td>0</td>\n",
              "      <td>0</td>\n",
              "      <td>0</td>\n",
              "      <td>0</td>\n",
              "      <td>0</td>\n",
              "      <td>0</td>\n",
              "      <td>0</td>\n",
              "      <td>0</td>\n",
              "      <td>0</td>\n",
              "      <td>1</td>\n",
              "      <td>0</td>\n",
              "      <td>0</td>\n",
              "      <td>1</td>\n",
              "    </tr>\n",
              "  </tbody>\n",
              "</table>\n",
              "</div>"
            ],
            "text/plain": [
              "   term_3 years  term_5 years  ...  loan_status_ChargedOff  loan_status_FullyPaid\n",
              "0             1             0  ...                       0                      1\n",
              "1             0             1  ...                       1                      0\n",
              "2             0             1  ...                       0                      1\n",
              "3             1             0  ...                       0                      1\n",
              "4             1             0  ...                       0                      1\n",
              "\n",
              "[5 rows x 54 columns]"
            ]
          },
          "metadata": {
            "tags": []
          },
          "execution_count": 59
        }
      ]
    },
    {
      "cell_type": "code",
      "metadata": {
        "id": "eWKYBTo1Gtbx"
      },
      "source": [
        "train = data[:len(train)]\n",
        "test = data[len(train):]"
      ],
      "execution_count": 28,
      "outputs": []
    },
    {
      "cell_type": "code",
      "metadata": {
        "id": "Qf-jQtL1I9wM"
      },
      "source": [
        "y_train = train[\"loan_status\"]\n",
        "X_train = train.drop(\"loan_status\", axis =1)\n",
        "X_test = test.drop(\"loan_status\",axis =1)"
      ],
      "execution_count": 29,
      "outputs": []
    },
    {
      "cell_type": "code",
      "metadata": {
        "id": "ZEucxuv-JNwE",
        "outputId": "67978137-3b86-4f5e-dea8-c4e8c2754a9d",
        "colab": {
          "base_uri": "https://localhost:8080/",
          "height": 221
        }
      },
      "source": [
        "y_train"
      ],
      "execution_count": 30,
      "outputs": [
        {
          "output_type": "execute_result",
          "data": {
            "text/plain": [
              "0         0.0\n",
              "1         1.0\n",
              "2         0.0\n",
              "3         0.0\n",
              "4         0.0\n",
              "         ... \n",
              "242151    0.0\n",
              "242152    1.0\n",
              "242153    0.0\n",
              "242154    0.0\n",
              "242155    0.0\n",
              "Name: loan_status, Length: 242156, dtype: float64"
            ]
          },
          "metadata": {
            "tags": []
          },
          "execution_count": 30
        }
      ]
    },
    {
      "cell_type": "code",
      "metadata": {
        "id": "CrlsihOFJRF5",
        "outputId": "56e1f6fc-f14d-445e-d97c-e24bedfd5a36",
        "colab": {
          "base_uri": "https://localhost:8080/",
          "height": 419
        }
      },
      "source": [
        "X_train"
      ],
      "execution_count": null,
      "outputs": [
        {
          "output_type": "execute_result",
          "data": {
            "text/html": [
              "<div>\n",
              "<style scoped>\n",
              "    .dataframe tbody tr th:only-of-type {\n",
              "        vertical-align: middle;\n",
              "    }\n",
              "\n",
              "    .dataframe tbody tr th {\n",
              "        vertical-align: top;\n",
              "    }\n",
              "\n",
              "    .dataframe thead th {\n",
              "        text-align: right;\n",
              "    }\n",
              "</style>\n",
              "<table border=\"1\" class=\"dataframe\">\n",
              "  <thead>\n",
              "    <tr style=\"text-align: right;\">\n",
              "      <th></th>\n",
              "      <th>term</th>\n",
              "      <th>interest_rate</th>\n",
              "      <th>grade</th>\n",
              "      <th>purpose</th>\n",
              "      <th>credit_score</th>\n",
              "      <th>application_type</th>\n",
              "    </tr>\n",
              "  </thead>\n",
              "  <tbody>\n",
              "    <tr>\n",
              "      <th>0</th>\n",
              "      <td>0</td>\n",
              "      <td>14.49</td>\n",
              "      <td>1</td>\n",
              "      <td>1</td>\n",
              "      <td>665.0</td>\n",
              "      <td>0</td>\n",
              "    </tr>\n",
              "    <tr>\n",
              "      <th>1</th>\n",
              "      <td>1</td>\n",
              "      <td>16.29</td>\n",
              "      <td>1</td>\n",
              "      <td>1</td>\n",
              "      <td>700.0</td>\n",
              "      <td>0</td>\n",
              "    </tr>\n",
              "    <tr>\n",
              "      <th>2</th>\n",
              "      <td>1</td>\n",
              "      <td>21.98</td>\n",
              "      <td>1</td>\n",
              "      <td>0</td>\n",
              "      <td>670.0</td>\n",
              "      <td>0</td>\n",
              "    </tr>\n",
              "    <tr>\n",
              "      <th>3</th>\n",
              "      <td>0</td>\n",
              "      <td>8.59</td>\n",
              "      <td>0</td>\n",
              "      <td>1</td>\n",
              "      <td>710.0</td>\n",
              "      <td>0</td>\n",
              "    </tr>\n",
              "    <tr>\n",
              "      <th>4</th>\n",
              "      <td>0</td>\n",
              "      <td>13.99</td>\n",
              "      <td>1</td>\n",
              "      <td>1</td>\n",
              "      <td>680.0</td>\n",
              "      <td>0</td>\n",
              "    </tr>\n",
              "    <tr>\n",
              "      <th>...</th>\n",
              "      <td>...</td>\n",
              "      <td>...</td>\n",
              "      <td>...</td>\n",
              "      <td>...</td>\n",
              "      <td>...</td>\n",
              "      <td>...</td>\n",
              "    </tr>\n",
              "    <tr>\n",
              "      <th>242151</th>\n",
              "      <td>0</td>\n",
              "      <td>10.16</td>\n",
              "      <td>0</td>\n",
              "      <td>1</td>\n",
              "      <td>690.0</td>\n",
              "      <td>0</td>\n",
              "    </tr>\n",
              "    <tr>\n",
              "      <th>242152</th>\n",
              "      <td>0</td>\n",
              "      <td>12.74</td>\n",
              "      <td>1</td>\n",
              "      <td>1</td>\n",
              "      <td>695.0</td>\n",
              "      <td>0</td>\n",
              "    </tr>\n",
              "    <tr>\n",
              "      <th>242153</th>\n",
              "      <td>0</td>\n",
              "      <td>14.08</td>\n",
              "      <td>1</td>\n",
              "      <td>1</td>\n",
              "      <td>730.0</td>\n",
              "      <td>0</td>\n",
              "    </tr>\n",
              "    <tr>\n",
              "      <th>242154</th>\n",
              "      <td>0</td>\n",
              "      <td>19.72</td>\n",
              "      <td>1</td>\n",
              "      <td>0</td>\n",
              "      <td>685.0</td>\n",
              "      <td>0</td>\n",
              "    </tr>\n",
              "    <tr>\n",
              "      <th>242155</th>\n",
              "      <td>0</td>\n",
              "      <td>18.99</td>\n",
              "      <td>1</td>\n",
              "      <td>0</td>\n",
              "      <td>680.0</td>\n",
              "      <td>1</td>\n",
              "    </tr>\n",
              "  </tbody>\n",
              "</table>\n",
              "<p>242156 rows × 6 columns</p>\n",
              "</div>"
            ],
            "text/plain": [
              "        term  interest_rate  grade  purpose  credit_score  application_type\n",
              "0          0          14.49      1        1         665.0                 0\n",
              "1          1          16.29      1        1         700.0                 0\n",
              "2          1          21.98      1        0         670.0                 0\n",
              "3          0           8.59      0        1         710.0                 0\n",
              "4          0          13.99      1        1         680.0                 0\n",
              "...      ...            ...    ...      ...           ...               ...\n",
              "242151     0          10.16      0        1         690.0                 0\n",
              "242152     0          12.74      1        1         695.0                 0\n",
              "242153     0          14.08      1        1         730.0                 0\n",
              "242154     0          19.72      1        0         685.0                 0\n",
              "242155     0          18.99      1        0         680.0                 1\n",
              "\n",
              "[242156 rows x 6 columns]"
            ]
          },
          "metadata": {
            "tags": []
          },
          "execution_count": 245
        }
      ]
    },
    {
      "cell_type": "code",
      "metadata": {
        "id": "P76zLdgfJsYx",
        "outputId": "ae544b2d-ff9c-42a4-84fb-c4f072dff31f",
        "colab": {
          "base_uri": "https://localhost:8080/",
          "height": 419
        }
      },
      "source": [
        "X_test"
      ],
      "execution_count": null,
      "outputs": [
        {
          "output_type": "execute_result",
          "data": {
            "text/html": [
              "<div>\n",
              "<style scoped>\n",
              "    .dataframe tbody tr th:only-of-type {\n",
              "        vertical-align: middle;\n",
              "    }\n",
              "\n",
              "    .dataframe tbody tr th {\n",
              "        vertical-align: top;\n",
              "    }\n",
              "\n",
              "    .dataframe thead th {\n",
              "        text-align: right;\n",
              "    }\n",
              "</style>\n",
              "<table border=\"1\" class=\"dataframe\">\n",
              "  <thead>\n",
              "    <tr style=\"text-align: right;\">\n",
              "      <th></th>\n",
              "      <th>term</th>\n",
              "      <th>interest_rate</th>\n",
              "      <th>grade</th>\n",
              "      <th>purpose</th>\n",
              "      <th>credit_score</th>\n",
              "      <th>application_type</th>\n",
              "    </tr>\n",
              "  </thead>\n",
              "  <tbody>\n",
              "    <tr>\n",
              "      <th>0</th>\n",
              "      <td>0</td>\n",
              "      <td>10.16</td>\n",
              "      <td>0</td>\n",
              "      <td>1</td>\n",
              "      <td>725.0</td>\n",
              "      <td>0</td>\n",
              "    </tr>\n",
              "    <tr>\n",
              "      <th>1</th>\n",
              "      <td>0</td>\n",
              "      <td>8.99</td>\n",
              "      <td>0</td>\n",
              "      <td>0</td>\n",
              "      <td>695.0</td>\n",
              "      <td>0</td>\n",
              "    </tr>\n",
              "    <tr>\n",
              "      <th>2</th>\n",
              "      <td>0</td>\n",
              "      <td>14.65</td>\n",
              "      <td>1</td>\n",
              "      <td>0</td>\n",
              "      <td>660.0</td>\n",
              "      <td>0</td>\n",
              "    </tr>\n",
              "    <tr>\n",
              "      <th>3</th>\n",
              "      <td>1</td>\n",
              "      <td>15.59</td>\n",
              "      <td>1</td>\n",
              "      <td>0</td>\n",
              "      <td>695.0</td>\n",
              "      <td>0</td>\n",
              "    </tr>\n",
              "    <tr>\n",
              "      <th>4</th>\n",
              "      <td>1</td>\n",
              "      <td>12.79</td>\n",
              "      <td>1</td>\n",
              "      <td>1</td>\n",
              "      <td>720.0</td>\n",
              "      <td>0</td>\n",
              "    </tr>\n",
              "    <tr>\n",
              "      <th>...</th>\n",
              "      <td>...</td>\n",
              "      <td>...</td>\n",
              "      <td>...</td>\n",
              "      <td>...</td>\n",
              "      <td>...</td>\n",
              "      <td>...</td>\n",
              "    </tr>\n",
              "    <tr>\n",
              "      <th>26901</th>\n",
              "      <td>0</td>\n",
              "      <td>7.90</td>\n",
              "      <td>0</td>\n",
              "      <td>1</td>\n",
              "      <td>735.0</td>\n",
              "      <td>0</td>\n",
              "    </tr>\n",
              "    <tr>\n",
              "      <th>26902</th>\n",
              "      <td>0</td>\n",
              "      <td>7.49</td>\n",
              "      <td>0</td>\n",
              "      <td>1</td>\n",
              "      <td>715.0</td>\n",
              "      <td>0</td>\n",
              "    </tr>\n",
              "    <tr>\n",
              "      <th>26903</th>\n",
              "      <td>0</td>\n",
              "      <td>15.05</td>\n",
              "      <td>1</td>\n",
              "      <td>0</td>\n",
              "      <td>695.0</td>\n",
              "      <td>0</td>\n",
              "    </tr>\n",
              "    <tr>\n",
              "      <th>26904</th>\n",
              "      <td>0</td>\n",
              "      <td>14.27</td>\n",
              "      <td>1</td>\n",
              "      <td>1</td>\n",
              "      <td>680.0</td>\n",
              "      <td>0</td>\n",
              "    </tr>\n",
              "    <tr>\n",
              "      <th>26905</th>\n",
              "      <td>0</td>\n",
              "      <td>21.49</td>\n",
              "      <td>1</td>\n",
              "      <td>1</td>\n",
              "      <td>690.0</td>\n",
              "      <td>0</td>\n",
              "    </tr>\n",
              "  </tbody>\n",
              "</table>\n",
              "<p>26906 rows × 6 columns</p>\n",
              "</div>"
            ],
            "text/plain": [
              "       term  interest_rate  grade  purpose  credit_score  application_type\n",
              "0         0          10.16      0        1         725.0                 0\n",
              "1         0           8.99      0        0         695.0                 0\n",
              "2         0          14.65      1        0         660.0                 0\n",
              "3         1          15.59      1        0         695.0                 0\n",
              "4         1          12.79      1        1         720.0                 0\n",
              "...     ...            ...    ...      ...           ...               ...\n",
              "26901     0           7.90      0        1         735.0                 0\n",
              "26902     0           7.49      0        1         715.0                 0\n",
              "26903     0          15.05      1        0         695.0                 0\n",
              "26904     0          14.27      1        1         680.0                 0\n",
              "26905     0          21.49      1        1         690.0                 0\n",
              "\n",
              "[26906 rows x 6 columns]"
            ]
          },
          "metadata": {
            "tags": []
          },
          "execution_count": 246
        }
      ]
    },
    {
      "cell_type": "code",
      "metadata": {
        "id": "M3Q_TyQsJ1eZ"
      },
      "source": [
        "#clf の値は適当12に見えるのは「えるつぅ」。\n",
        "from sklearn.linear_model import LogisticRegression\n",
        "# clf = LogisticRegression(penalty = 'l2', solver = \"sag\", random_state=0)\n",
        "clf = LogisticRegression(random_state=0)"
      ],
      "execution_count": 31,
      "outputs": []
    },
    {
      "cell_type": "code",
      "metadata": {
        "id": "-ImqW4Y8KKtB",
        "outputId": "866ebede-f9bc-4c0b-b1e0-95801dd180a1",
        "colab": {
          "base_uri": "https://localhost:8080/",
          "height": 51
        }
      },
      "source": [
        "clf.fit(X_train,y_train)\n",
        "y_pred = clf.predict(X_test)"
      ],
      "execution_count": 32,
      "outputs": [
        {
          "output_type": "stream",
          "text": [
            "/usr/local/lib/python3.6/dist-packages/sklearn/linear_model/_sag.py:330: ConvergenceWarning: The max_iter was reached which means the coef_ did not converge\n",
            "  \"the coef_ did not converge\", ConvergenceWarning)\n"
          ],
          "name": "stderr"
        }
      ]
    },
    {
      "cell_type": "code",
      "metadata": {
        "id": "1ToPcLzbKZ_h",
        "outputId": "66aef4f4-2306-45b9-c86b-d02ba0b35fde",
        "colab": {
          "base_uri": "https://localhost:8080/",
          "height": 34
        }
      },
      "source": [
        "print(y_pred)"
      ],
      "execution_count": null,
      "outputs": [
        {
          "output_type": "stream",
          "text": [
            "[0. 0. 0. ... 0. 0. 0.]\n"
          ],
          "name": "stdout"
        }
      ]
    },
    {
      "cell_type": "code",
      "metadata": {
        "id": "Ja5MzNZzbOaG",
        "outputId": "870befa2-3bdc-49a2-c9a6-0d8af3b631f1",
        "colab": {
          "base_uri": "https://localhost:8080/",
          "height": 68
        }
      },
      "source": [
        "print(submit.dtypes)"
      ],
      "execution_count": null,
      "outputs": [
        {
          "output_type": "stream",
          "text": [
            "0    int64\n",
            "1    int64\n",
            "dtype: object\n"
          ],
          "name": "stdout"
        }
      ]
    },
    {
      "cell_type": "code",
      "metadata": {
        "id": "wS45urBgvEBc"
      },
      "source": [
        "sub = submit"
      ],
      "execution_count": 33,
      "outputs": []
    },
    {
      "cell_type": "markdown",
      "metadata": {
        "id": "Oa4sEovygXQC"
      },
      "source": [
        "詰まりポイント\n",
        "\n",
        "submit と Testの行数が異なっており、予測(y_pred)した後にsubmission.csvにまとめるときにエラーが頻発した。\n",
        "原因はTestにはIndexが付いているものの、Submitにはそれが無い、というのが大きなエラー出会った。\n",
        "\n",
        "そこではじめのsubmission.csvをIndex=Falseオプション付きで読ませることで、最初の1列からすでにデータであることを明記し行数をあわせた。\n",
        "\n",
        "また、採集的な出力であるsubmission.csvもindex,headerともにFalseにして出力ができた(と思いたい)\n",
        "\n",
        "これをsignateのAPIで提出したいが、さて。\n",
        "\n",
        "FullPaidを0、 貸し倒れを1として提出必要があるものの、ｙ＿ｐれｄがstrを保持している。\n",
        "kaggleではそんなこと無いのに、一体どこが変換をしているのか。\n",
        "もとからSurvived = 0, or 1だった。\n",
        "\n",
        "y速の前に変換すべきだろうか。\n",
        "とりあえず、Data= Train+testにする前に変換してみた・。"
      ]
    },
    {
      "cell_type": "code",
      "metadata": {
        "id": "uqzecFHgvI1O",
        "outputId": "3d88d4f0-f883-470a-8829-b14f8ff9f014",
        "colab": {
          "base_uri": "https://localhost:8080/",
          "height": 255
        }
      },
      "source": [
        "sub['loan_status'] = list(map(int, y_pred))\n",
        "sub.drop(sub.columns[[1]],axis=1,inplace = True)\n",
        "sub.to_csv(\"submission.csv\", index=False , header=False)\n",
        "print(sub.dtypes)\n",
        "sub.head()"
      ],
      "execution_count": 34,
      "outputs": [
        {
          "output_type": "stream",
          "text": [
            "0              int64\n",
            "loan_status    int64\n",
            "dtype: object\n"
          ],
          "name": "stdout"
        },
        {
          "output_type": "execute_result",
          "data": {
            "text/html": [
              "<div>\n",
              "<style scoped>\n",
              "    .dataframe tbody tr th:only-of-type {\n",
              "        vertical-align: middle;\n",
              "    }\n",
              "\n",
              "    .dataframe tbody tr th {\n",
              "        vertical-align: top;\n",
              "    }\n",
              "\n",
              "    .dataframe thead th {\n",
              "        text-align: right;\n",
              "    }\n",
              "</style>\n",
              "<table border=\"1\" class=\"dataframe\">\n",
              "  <thead>\n",
              "    <tr style=\"text-align: right;\">\n",
              "      <th></th>\n",
              "      <th>0</th>\n",
              "      <th>loan_status</th>\n",
              "    </tr>\n",
              "  </thead>\n",
              "  <tbody>\n",
              "    <tr>\n",
              "      <th>0</th>\n",
              "      <td>1496754</td>\n",
              "      <td>0</td>\n",
              "    </tr>\n",
              "    <tr>\n",
              "      <th>1</th>\n",
              "      <td>84909594</td>\n",
              "      <td>0</td>\n",
              "    </tr>\n",
              "    <tr>\n",
              "      <th>2</th>\n",
              "      <td>1165403</td>\n",
              "      <td>0</td>\n",
              "    </tr>\n",
              "    <tr>\n",
              "      <th>3</th>\n",
              "      <td>91354446</td>\n",
              "      <td>0</td>\n",
              "    </tr>\n",
              "    <tr>\n",
              "      <th>4</th>\n",
              "      <td>85636932</td>\n",
              "      <td>0</td>\n",
              "    </tr>\n",
              "  </tbody>\n",
              "</table>\n",
              "</div>"
            ],
            "text/plain": [
              "          0  loan_status\n",
              "0   1496754            0\n",
              "1  84909594            0\n",
              "2   1165403            0\n",
              "3  91354446            0\n",
              "4  85636932            0"
            ]
          },
          "metadata": {
            "tags": []
          },
          "execution_count": 34
        }
      ]
    },
    {
      "cell_type": "code",
      "metadata": {
        "id": "f7bA1ylFios1",
        "outputId": "ecfaa0bd-273e-409e-a4d7-f025b75c22bf",
        "colab": {
          "base_uri": "https://localhost:8080/",
          "height": 34
        }
      },
      "source": [
        "!ls"
      ],
      "execution_count": null,
      "outputs": [
        {
          "output_type": "stream",
          "text": [
            "adc.json  sample_data  submission.csv  submit.csv  test.csv  train.csv\n"
          ],
          "name": "stdout"
        }
      ]
    },
    {
      "cell_type": "markdown",
      "metadata": {
        "id": "luGg9Em5SOvT"
      },
      "source": [
        "予測値の諸元とかを調べる\n",
        "ここでy_test(CVセットなど)を作っていれば、f1スコアなど求められるが。"
      ]
    },
    {
      "cell_type": "code",
      "metadata": {
        "id": "RAkApWbQSNse",
        "outputId": "55dc09c1-0350-43b0-d89c-7d4a337ee0d2",
        "colab": {
          "base_uri": "https://localhost:8080/",
          "height": 219
        }
      },
      "source": [
        "from sklearn.metrics import f1_score\n",
        "f_one = f1_score(y_test,pred)\n",
        "print(f_one)"
      ],
      "execution_count": 36,
      "outputs": [
        {
          "output_type": "error",
          "ename": "NameError",
          "evalue": "ignored",
          "traceback": [
            "\u001b[0;31m---------------------------------------------------------------------------\u001b[0m",
            "\u001b[0;31mNameError\u001b[0m                                 Traceback (most recent call last)",
            "\u001b[0;32m<ipython-input-36-51be15b94940>\u001b[0m in \u001b[0;36m<module>\u001b[0;34m()\u001b[0m\n\u001b[1;32m      1\u001b[0m \u001b[0;32mfrom\u001b[0m \u001b[0msklearn\u001b[0m\u001b[0;34m.\u001b[0m\u001b[0mmetrics\u001b[0m \u001b[0;32mimport\u001b[0m \u001b[0mf1_score\u001b[0m\u001b[0;34m\u001b[0m\u001b[0;34m\u001b[0m\u001b[0m\n\u001b[1;32m      2\u001b[0m \u001b[0;34m\u001b[0m\u001b[0m\n\u001b[0;32m----> 3\u001b[0;31m \u001b[0mf_one\u001b[0m \u001b[0;34m=\u001b[0m \u001b[0mf1_score\u001b[0m\u001b[0;34m(\u001b[0m\u001b[0my_test\u001b[0m\u001b[0;34m,\u001b[0m\u001b[0mpred\u001b[0m\u001b[0;34m)\u001b[0m\u001b[0;34m\u001b[0m\u001b[0;34m\u001b[0m\u001b[0m\n\u001b[0m\u001b[1;32m      4\u001b[0m \u001b[0mprint\u001b[0m\u001b[0;34m(\u001b[0m\u001b[0mf_one\u001b[0m\u001b[0;34m)\u001b[0m\u001b[0;34m\u001b[0m\u001b[0;34m\u001b[0m\u001b[0m\n",
            "\u001b[0;31mNameError\u001b[0m: name 'y_test' is not defined"
          ]
        }
      ]
    },
    {
      "cell_type": "markdown",
      "metadata": {
        "id": "JhzkbiRhSOZd"
      },
      "source": [
        ""
      ]
    },
    {
      "cell_type": "code",
      "metadata": {
        "id": "aGopoGpadv2l",
        "outputId": "37006478-8a38-4c4a-c5ec-9b984deaf043",
        "colab": {
          "base_uri": "https://localhost:8080/",
          "height": 34
        }
      },
      "source": [
        "!signate submit -c 294 submission.csv"
      ],
      "execution_count": null,
      "outputs": [
        {
          "output_type": "stream",
          "text": [
            "\u001b[32mYou have successfully submitted your predictions.We will send you the submission result to your email address.\u001b[0m\n"
          ],
          "name": "stdout"
        }
      ]
    },
    {
      "cell_type": "code",
      "metadata": {
        "id": "FAzOf-JZiYhB"
      },
      "source": [
        ""
      ],
      "execution_count": null,
      "outputs": []
    }
  ]
}
